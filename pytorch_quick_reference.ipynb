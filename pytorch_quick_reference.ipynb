{
  "cells": [
    {
      "cell_type": "markdown",
      "metadata": {
        "vscode": {
          "languageId": "raw"
        }
      },
      "source": [
        "# torch tensor operations - quick reference\n",
        "\n",
        "Essential operations for daily PyTorch development.\n",
        "\n",
        "This notebook provides a comprehensive reference for common PyTorch tensor operations, from basic creation to advanced techniques. This notebook covers PyTorch tensor operations including:\n",
        "\n",
        "- **Tensor Creation**: Basic tensors, random tensors, and data type conversion\n",
        "- **Tensor Manipulation**: Reshaping, indexing, and slicing\n",
        "- **Mathematical Operations**: Arithmetic, matrix operations, and statistics\n",
        "- **Gradient Operations**: Automatic differentiation and gradient computation\n",
        "- **Device Operations**: CPU/GPU management\n",
        "- **Advanced Operations**: Concatenation, stacking, permutation, masking, gather and scatter, etc.\n",
        "- **Memory Optimization**: In-place operations, memory sharing, and gradient checkpointing\n",
        "- **Time Series Operations**: Rolling windows, moving averages, and sequence handling\n",
        "- **Performance Tips**: Best practices for efficient PyTorch usage\n",
        "- **Debugging**: Tensor inspection and common issues\n",
        "- **Practical Examples**: Time series normalization, attention mechanisms, and efficient matrix operations\n",
        "\n",
        "Key highlights of advanced features:\n",
        "1. Comprehensive time series processing with variable length sequences\n",
        "2. Memory optimization techniques including gradient checkpointing\n",
        "3. Efficient matrix operations for 2D tensors\n",
        "4. Attention mechanism implementations with temperature scaling\n",
        "5. Batch processing with automatic padding\n",
        "\n",
        "Use these operations as building blocks for your PyTorch projects!\n"
      ]
    },
    {
      "cell_type": "markdown",
      "metadata": {
        "vscode": {
          "languageId": "raw"
        }
      },
      "source": [
        "## 📚 Additional Resources\n",
        "\n",
        "- [PyTorch Official Documentation](https://pytorch.org/docs/stable/tensors.html)\n",
        "- [PyTorch Tutorials](https://pytorch.org/tutorials/)\n",
        "- [PyTorch Forums](https://discuss.pytorch.org/)\n"
      ]
    },
    {
      "cell_type": "code",
      "execution_count": 1,
      "metadata": {},
      "outputs": [
        {
          "name": "stdout",
          "output_type": "stream",
          "text": [
            "PyTorch version: 2.7.1+cu126\n",
            "CUDA available: False\n"
          ]
        }
      ],
      "source": [
        "# Import required libraries\n",
        "import numpy as np\n",
        "import torch\n",
        "import torch.nn.functional as F\n",
        "\n",
        "print(f\"PyTorch version: {torch.__version__}\")\n",
        "print(f\"CUDA available: {torch.cuda.is_available()}\")\n"
      ]
    },
    {
      "cell_type": "markdown",
      "metadata": {
        "vscode": {
          "languageId": "raw"
        }
      },
      "source": [
        "## 1. Tensor Creation\n",
        "\n",
        "Basic tensor creation methods and converting from other data types.\n"
      ]
    },
    {
      "cell_type": "code",
      "execution_count": 2,
      "metadata": {},
      "outputs": [
        {
          "name": "stdout",
          "output_type": "stream",
          "text": [
            "Basic tensor: tensor([1, 2, 3, 4, 5])\n",
            "\n",
            "Zeros tensor:\n",
            "tensor([[0., 0., 0., 0.],\n",
            "        [0., 0., 0., 0.],\n",
            "        [0., 0., 0., 0.]])\n",
            "\n",
            "Ones tensor shape: torch.Size([2, 3, 4])\n",
            "\n",
            "Random tensor [0,1):\n",
            "tensor([[0.1194, 0.2106, 0.8968],\n",
            "        [0.8892, 0.9525, 0.0849]])\n",
            "\n",
            "Random normal tensor:\n",
            "tensor([[ 1.4472, -1.2414, -2.0861],\n",
            "        [-1.7649,  0.4259, -1.3894]])\n",
            "\n",
            "Arange tensor: tensor([0, 2, 4, 6, 8])\n",
            "\n",
            "Linspace tensor: tensor([0.0000, 0.2500, 0.5000, 0.7500, 1.0000])\n"
          ]
        }
      ],
      "source": [
        "# Basic creation\n",
        "x = torch.tensor([1, 2, 3, 4, 5])\n",
        "print(f\"Basic tensor: {x}\")\n",
        "\n",
        "x = torch.zeros(3, 4)  # 3x4 tensor of zeros\n",
        "print(f\"\\nZeros tensor:\\n{x}\")\n",
        "\n",
        "x = torch.ones(2, 3, 4)  # 2x3x4 tensor of ones\n",
        "print(f\"\\nOnes tensor shape: {x.shape}\")\n",
        "\n",
        "x = torch.rand(2, 3)  # Random uniform values [0, 1)\n",
        "print(f\"\\nRandom tensor [0,1):\\n{x}\")\n",
        "\n",
        "x = torch.randn(2, 3)  # Random normal distribution\n",
        "print(f\"\\nRandom normal tensor:\\n{x}\")\n",
        "\n",
        "x = torch.arange(0, 10, 2)  # [0, 2, 4, 6, 8]\n",
        "print(f\"\\nArange tensor: {x}\")\n",
        "\n",
        "x = torch.linspace(0, 1, 5)  # [0, 0.25, 0.5, 0.75, 1]\n",
        "print(f\"\\nLinspace tensor: {x}\")\n"
      ]
    },
    {
      "cell_type": "code",
      "execution_count": 3,
      "metadata": {},
      "outputs": [
        {
          "name": "stdout",
          "output_type": "stream",
          "text": [
            "From numpy:\n",
            "tensor([[1, 2, 3],\n",
            "        [4, 5, 6]])\n",
            "\n",
            "With specific dtype: tensor([1., 2.]), dtype: torch.float32\n"
          ]
        }
      ],
      "source": [
        "# From other data types\n",
        "np_array = np.array([[1, 2, 3], [4, 5, 6]])\n",
        "x = torch.from_numpy(np_array)  # From numpy\n",
        "print(f\"From numpy:\\n{x}\")\n",
        "\n",
        "x = torch.tensor([1.0, 2.0], dtype=torch.float32)  # Specify dtype\n",
        "print(f\"\\nWith specific dtype: {x}, dtype: {x.dtype}\")\n"
      ]
    },
    {
      "cell_type": "markdown",
      "metadata": {
        "vscode": {
          "languageId": "raw"
        }
      },
      "source": [
        "## 2. Tensor Manipulation\n",
        "\n",
        "Reshaping, indexing, and slicing operations.\n"
      ]
    },
    {
      "cell_type": "code",
      "execution_count": 4,
      "metadata": {},
      "outputs": [
        {
          "name": "stdout",
          "output_type": "stream",
          "text": [
            "Original shape: torch.Size([2, 3, 4])\n",
            "Reshaped to: torch.Size([6, 4])\n",
            "Viewed to: torch.Size([6, 4])\n",
            "Original tensor after view: 100.0\n",
            "Flattened to: torch.Size([24])\n",
            "Squeezed shape: torch.Size([2, 3, 4])\n",
            "Unsqueezed shape: torch.Size([1, 2, 3, 4])\n"
          ]
        }
      ],
      "source": [
        "# Reshaping\n",
        "x = torch.randn(2, 3, 4)\n",
        "print(f\"Original shape: {x.shape}\")\n",
        "\n",
        "y = x.reshape(6, 4)  # Reshape to 6x4\n",
        "print(f\"Reshaped to: {y.shape}\")\n",
        "\n",
        "y = x.view(6, 4)  # Same as reshape (shares memory with original)\n",
        "print(f\"Viewed to: {y.shape}\")\n",
        "y[0, 0] = 100\n",
        "print(f\"Original tensor after view: {x[0, 0, 0]}\")\n",
        "\n",
        "y = x.flatten()  # Flatten to 1D\n",
        "print(f\"Flattened to: {y.shape}\")\n",
        "\n",
        "y = x.squeeze()  # Remove dimensions of size 1\n",
        "print(f\"Squeezed shape: {y.shape}\")\n",
        "\n",
        "y = x.unsqueeze(0)  # Add dimension at index 0\n",
        "print(f\"Unsqueezed shape: {y.shape}\")\n"
      ]
    },
    {
      "cell_type": "code",
      "execution_count": 5,
      "metadata": {},
      "outputs": [
        {
          "name": "stdout",
          "output_type": "stream",
          "text": [
            "Original shape: torch.Size([2, 1, 3, 1]): \n",
            " tensor([[[[1.],\n",
            "          [2.],\n",
            "          [3.]]],\n",
            "\n",
            "\n",
            "        [[[4.],\n",
            "          [5.],\n",
            "          [6.]]]])\n",
            "Squeezed shape: torch.Size([2, 3]): \n",
            " tensor([[1., 2., 3.],\n",
            "        [4., 5., 6.]])\n",
            "Unsqueezed shape: torch.Size([1, 2, 1, 3, 1]): \n",
            " tensor([[[[[1.],\n",
            "           [2.],\n",
            "           [3.]]],\n",
            "\n",
            "\n",
            "         [[[4.],\n",
            "           [5.],\n",
            "           [6.]]]]])\n"
          ]
        }
      ],
      "source": [
        "# Example with squeeze and unsqueeze\n",
        "x = torch.tensor([[1, 2, 3], [4, 5, 6]], dtype=torch.float32)\n",
        "\n",
        "y = x.view((2, 1, 3, 1))\n",
        "\n",
        "print(f\"Original shape: {y.shape}: \\n\", y)\n",
        "\n",
        "print(f\"Squeezed shape: {y.squeeze().shape}: \\n\", y.squeeze())\n",
        "\n",
        "print(f\"Unsqueezed shape: {y.unsqueeze(0).shape}: \\n\", y.unsqueeze(0))\n"
      ]
    },
    {
      "cell_type": "code",
      "execution_count": 6,
      "metadata": {},
      "outputs": [
        {
          "name": "stdout",
          "output_type": "stream",
          "text": [
            "Original tensor:\n",
            "tensor([[ 0.2044, -0.1893, -0.6891,  1.4666],\n",
            "        [-0.7639, -0.4835,  1.1252,  0.3548],\n",
            "        [-0.6136, -0.5048,  1.0846,  1.3272]])\n",
            "\n",
            "First row: tensor([ 0.2044, -0.1893, -0.6891,  1.4666])\n",
            "\n",
            "First element: 0.20436817407608032\n",
            "\n",
            "Sliced data:\n",
            "tensor([[-0.1893, -0.6891],\n",
            "        [-0.4835,  1.1252]])\n",
            "\n",
            "Boolean mask:\n",
            "tensor([[ True, False, False,  True],\n",
            "        [False, False,  True,  True],\n",
            "        [False, False,  True,  True]])\n",
            "\n",
            "Positive values: tensor([0.2044, 1.4666, 1.1252, 0.3548, 1.0846, 1.3272])\n",
            "\n",
            "Preserved mask (shape: torch.Size([3, 2])): tensor([[ 0.2044, -0.6891],\n",
            "        [-0.7639,  1.1252],\n",
            "        [-0.6136,  1.0846]])\n",
            "\n",
            "Preserved mask (shape: torch.Size([2, 4])): tensor([[ 0.2044, -0.1893, -0.6891,  1.4666],\n",
            "        [-0.6136, -0.5048,  1.0846,  1.3272]])\n"
          ]
        }
      ],
      "source": [
        "# Indexing and slicing\n",
        "x = torch.randn(3, 4)\n",
        "print(f\"Original tensor:\\n{x}\")\n",
        "\n",
        "first_row = x[0]  # First row\n",
        "print(f\"\\nFirst row: {first_row}\")\n",
        "\n",
        "first_element = x[0, 0]  # First element\n",
        "print(f\"\\nFirst element: {first_element}\")\n",
        "\n",
        "slice_data = x[0:2, 1:3]  # Slice\n",
        "print(f\"\\nSliced data:\\n{slice_data}\")\n",
        "\n",
        "mask = x > 0  # Boolean mask\n",
        "print(f\"\\nBoolean mask:\\n{mask}\")\n",
        "\n",
        "positive_values = x[mask]  # Boolean indexing\n",
        "print(f\"\\nPositive values: {positive_values}\")  # returns a 1D tensor\n",
        "# See masked_fill for dimension preserving boolean based filling\n",
        "\n",
        "mask_1d_dim1 = torch.tensor([True, False, True, False])\n",
        "preserved_mask = x[:, mask_1d_dim1]\n",
        "print(f\"\\nPreserved mask (shape: {preserved_mask.shape}): {preserved_mask}\")\n",
        "\n",
        "mask_1d_dim0 = torch.tensor([True, False, True])\n",
        "preserved_mask = x[mask_1d_dim0, :]\n",
        "print(f\"\\nPreserved mask (shape: {preserved_mask.shape}): {preserved_mask}\")\n"
      ]
    },
    {
      "cell_type": "code",
      "execution_count": 7,
      "metadata": {},
      "outputs": [
        {
          "name": "stdout",
          "output_type": "stream",
          "text": [
            "Original tensor:\n",
            "tensor([[[ 0,  1,  2,  3],\n",
            "         [ 4,  5,  6,  7]],\n",
            "\n",
            "        [[ 8,  9, 10, 11],\n",
            "         [12, 13, 14, 15]],\n",
            "\n",
            "        [[16, 17, 18, 19],\n",
            "         [20, 21, 22, 23]]])\n",
            "Indices:\n",
            "tensor([0, 2])\n",
            "Indexed tensor: (shape: torch.Size([2, 2, 4]))\n",
            "tensor([[[ 0,  1,  2,  3],\n",
            "         [ 4,  5,  6,  7]],\n",
            "\n",
            "        [[16, 17, 18, 19],\n",
            "         [20, 21, 22, 23]]])\n",
            "Custom indexed tensor: (shape: torch.Size([3, 2]))\n",
            "tensor([[ 1,  5],\n",
            "        [19, 23],\n",
            "        [ 8, 12]])\n"
          ]
        }
      ],
      "source": [
        "# Indexing with tensors: these can also be done with int lists BUT gradients may not flow\n",
        "x = torch.arange(3 * 4 * 2).view(3, 2, 4)\n",
        "print(f\"Original tensor:\\n{x}\")\n",
        "\n",
        "indices = torch.tensor([0, 2])  # indices of dim 0\n",
        "print(f\"Indices:\\n{indices}\")\n",
        "\n",
        "x_indexed = x[indices]\n",
        "print(f\"Indexed tensor: (shape: {x_indexed.shape})\\n{x_indexed}\")\n",
        "\n",
        "custom_indexed = x[torch.tensor([0, 2, 1]), :, torch.tensor([1, 3, 0])]\n",
        "print(f\"Custom indexed tensor: (shape: {custom_indexed.shape})\\n{custom_indexed}\")\n"
      ]
    },
    {
      "cell_type": "code",
      "execution_count": 8,
      "metadata": {},
      "outputs": [
        {
          "name": "stdout",
          "output_type": "stream",
          "text": [
            "torch.Size([2, 3, 2, 5])\n"
          ]
        }
      ],
      "source": [
        "# Ellipsis indexing\n",
        "# Create a tensor of shape (2, 3, 4, 5)\n",
        "x = torch.randn(2, 3, 4, 5)\n",
        "\n",
        "# Use ellipsis for extended slicing\n",
        "sliced_tensor = x[..., 1:3, :]\n",
        "print(sliced_tensor.shape)  # Output: torch.Size([2, 3, 2, 5])\n"
      ]
    },
    {
      "cell_type": "code",
      "execution_count": 9,
      "metadata": {},
      "outputs": [
        {
          "name": "stdout",
          "output_type": "stream",
          "text": [
            "Original tensor:\n",
            "tensor([[ 0.7292,  1.5022, -0.7339, -0.8967],\n",
            "        [-0.8604,  1.6959,  0.3635,  0.1129],\n",
            "        [-2.4933,  0.1483,  2.0098, -1.0039]])\n",
            "\n",
            "Sorted values:\n",
            "tensor([[-0.8967, -0.7339,  0.7292,  1.5022],\n",
            "        [-0.8604,  0.1129,  0.3635,  1.6959],\n",
            "        [-2.4933, -1.0039,  0.1483,  2.0098]])\n",
            "Sorted indices:\n",
            "tensor([[3, 2, 0, 1],\n",
            "        [0, 3, 2, 1],\n",
            "        [0, 3, 1, 2]])\n",
            "\n",
            "Sorted along dim=0:\n",
            "tensor([[-2.4933,  0.1483, -0.7339, -1.0039],\n",
            "        [-0.8604,  1.5022,  0.3635, -0.8967],\n",
            "        [ 0.7292,  1.6959,  2.0098,  0.1129]])\n",
            "\n",
            "Sorted in descending order:\n",
            "tensor([[ 1.5022,  0.7292, -0.7339, -0.8967],\n",
            "        [ 1.6959,  0.3635,  0.1129, -0.8604],\n",
            "        [ 2.0098,  0.1483, -1.0039, -2.4933]])\n",
            "\n",
            "Top-2 values:\n",
            "tensor([[1.5022, 0.7292],\n",
            "        [1.6959, 0.3635],\n",
            "        [2.0098, 0.1483]])\n",
            "Top-2 indices:\n",
            "tensor([[1, 0],\n",
            "        [1, 2],\n",
            "        [2, 1]])\n",
            "\n",
            "Stable sorted:\n",
            "tensor([[-0.8967, -0.7339,  0.7292,  1.5022],\n",
            "        [-0.8604,  0.1129,  0.3635,  1.6959],\n",
            "        [-2.4933, -1.0039,  0.1483,  2.0098]])\n"
          ]
        }
      ],
      "source": [
        "# Sorting operations\n",
        "x = torch.randn(3, 4)\n",
        "print(f\"Original tensor:\\n{x}\")\n",
        "\n",
        "# Sort along last dimension (default)\n",
        "sorted_values, sorted_indices = torch.sort(x)  # argsort just returns the indices\n",
        "print(f\"\\nSorted values:\\n{sorted_values}\")\n",
        "print(f\"Sorted indices:\\n{sorted_indices}\")\n",
        "\n",
        "# Sort along specific dimension\n",
        "sorted_values_dim0, sorted_indices_dim0 = torch.sort(x, dim=0)\n",
        "print(f\"\\nSorted along dim=0:\\n{sorted_values_dim0}\")\n",
        "\n",
        "# Sort in descending order\n",
        "sorted_desc, indices_desc = torch.sort(x, descending=True)\n",
        "print(f\"\\nSorted in descending order:\\n{sorted_desc}\")\n",
        "\n",
        "# Top-k elements\n",
        "k = 2\n",
        "topk_values, topk_indices = torch.topk(x, k=k, dim=-1)\n",
        "print(f\"\\nTop-{k} values:\\n{topk_values}\")\n",
        "print(f\"Top-{k} indices:\\n{topk_indices}\")\n",
        "\n",
        "# Sort with stable sorting (maintains relative order of equal elements)\n",
        "sorted_stable, indices_stable = torch.sort(x, stable=True)\n",
        "print(f\"\\nStable sorted:\\n{sorted_stable}\")\n"
      ]
    },
    {
      "cell_type": "markdown",
      "metadata": {
        "vscode": {
          "languageId": "raw"
        }
      },
      "source": [
        "### 2.a strides, views and contiguous\n",
        "\n",
        "torch tensors are stored in row major order by default.\n",
        "\n",
        "Viewing followed by transposing followed by viewing may be disallowed because you can only generate a view on a contiguous tensor.\n",
        "\n",
        "A contiguous tensor is one whose memory is allocated as though it was created from scratch. eg. `[[1 2 3] [4 5 6]]` => `1 2 3 4 5 6` in memory.\n",
        "\n",
        "Applying:\n",
        "1. a view (eg. 3, 2) => `[[1 2] [3 4] [5 6]]`\n",
        "2. a transpose => `[[1 3 5] [2 4 6]]`\n",
        "3. try to apply a view for 3,2: will fail because on memory the data is still stored as `1 2 3 4 5 6`. The view would expect the data to be stored as `1 3 5 2 4 6` to work correctly.\n",
        "\n",
        "Read up on a tensor's stride to understand better.\n",
        "\n",
        "Ref: https://stackoverflow.com/questions/48915810/what-does-contiguous-do-in-pytorch\n"
      ]
    },
    {
      "cell_type": "code",
      "execution_count": 10,
      "metadata": {},
      "outputs": [
        {
          "name": "stdout",
          "output_type": "stream",
          "text": [
            "Original tensor:\n",
            "tensor([[1., 2., 3.],\n",
            "        [4., 5., 6.]])\n",
            "Strides (memory layout): (3, 1)\n",
            "Underlying storage: [1.0, 2.0, 3.0, 4.0, 5.0, 6.0]\n",
            "Is contiguous: True\n",
            "\n",
            "After view(3, 2):\n",
            "tensor([[1., 2.],\n",
            "        [3., 4.],\n",
            "        [5., 6.]])\n",
            "Strides (memory layout): (2, 1)\n",
            "Underlying storage: [1.0, 2.0, 3.0, 4.0, 5.0, 6.0]\n",
            "Is contiguous: True\n",
            "\n",
            "After transpose(0, 1):\n",
            "tensor([[1., 3., 5.],\n",
            "        [2., 4., 6.]])\n",
            "Strides (memory layout): (1, 2)\n",
            "Underlying storage: [1.0, 2.0, 3.0, 4.0, 5.0, 6.0]\n",
            "Is contiguous: False\n",
            "\n",
            "Trying to apply view(3, 2) to transposed tensor:\n",
            "Error: view size is not compatible with input tensor's size and stride (at least one dimension spans across two contiguous subspaces). Use .reshape(...) instead.\n",
            "\n",
            "Use contiguous() first:\n",
            "view() works after contiguous()\n",
            "tensor([[1., 3.],\n",
            "        [5., 2.],\n",
            "        [4., 6.]])\n",
            "Strides (memory layout): (2, 1)\n",
            "Underlying storage: [1.0, 3.0, 5.0, 2.0, 4.0, 6.0]\n",
            "Is contiguous: True\n"
          ]
        },
        {
          "name": "stderr",
          "output_type": "stream",
          "text": [
            "/tmp/ipykernel_230730/373637974.py:6: UserWarning: TypedStorage is deprecated. It will be removed in the future and UntypedStorage will be the only storage class. This should only matter to you if you are using storages directly.  To access UntypedStorage directly, use tensor.untyped_storage() instead of tensor.storage()\n",
            "  print(f\"Underlying storage: {original.storage().tolist()}\")\n"
          ]
        }
      ],
      "source": [
        "# Step 1: Create original tensor\n",
        "original = torch.tensor([[1, 2, 3], [4, 5, 6]], dtype=torch.float32)\n",
        "print(\"Original tensor:\")\n",
        "print(original)\n",
        "print(f\"Strides (memory layout): {original.stride()}\")\n",
        "print(f\"Underlying storage: {original.storage().tolist()}\")\n",
        "print(f\"Is contiguous: {original.is_contiguous()}\")\n",
        "print()\n",
        "\n",
        "# Step 2: Apply view (3, 2)\n",
        "viewed = original.view(3, 2)\n",
        "print(\"After view(3, 2):\")\n",
        "print(viewed)\n",
        "print(f\"Strides (memory layout): {viewed.stride()}\")\n",
        "print(f\"Underlying storage: {viewed.storage().tolist()}\")\n",
        "print(f\"Is contiguous: {viewed.is_contiguous()}\")\n",
        "print()\n",
        "\n",
        "# Step 3: Apply transpose\n",
        "transposed = viewed.transpose(0, 1)\n",
        "print(\"After transpose(0, 1):\")\n",
        "print(transposed)\n",
        "print(f\"Strides (memory layout): {transposed.stride()}\")\n",
        "print(\n",
        "    f\"Underlying storage: {transposed.storage().tolist()}\"\n",
        ")  # Note how it is not is row major order anymore w.r.t underlying storage.\n",
        "print(f\"Is contiguous: {transposed.is_contiguous()}\")\n",
        "print()\n",
        "\n",
        "# Step 4: Try to apply view again - THIS WILL FAIL\n",
        "print(\"Trying to apply view(3, 2) to transposed tensor:\")\n",
        "try:\n",
        "    final_view = transposed.view(3, 2)\n",
        "    print(\"Success!\")\n",
        "except RuntimeError as e:\n",
        "    print(f\"Error: {e}\")\n",
        "print()\n",
        "\n",
        "# Step 5: Solutions\n",
        "print(\"Use contiguous() first:\")\n",
        "contiguous_transposed = transposed.contiguous()\n",
        "try:\n",
        "    solution1 = contiguous_transposed.view(3, 2)\n",
        "    print(\"view() works after contiguous()\")\n",
        "    print(solution1)\n",
        "    print(f\"Strides (memory layout): {solution1.stride()}\")\n",
        "    print(f\"Underlying storage: {solution1.storage().tolist()}\")\n",
        "    print(f\"Is contiguous: {solution1.is_contiguous()}\")\n",
        "except RuntimeError as e:\n",
        "    print(f\"Still fails: {e}\")\n",
        "\n",
        "# other solutions: clone, reshape\n"
      ]
    },
    {
      "cell_type": "markdown",
      "metadata": {
        "vscode": {
          "languageId": "raw"
        }
      },
      "source": [
        "### 2.b shared vs. cloned memory summary\n",
        "\n",
        "| Operation Category | Shared Memory Operations | Cloned Operations |\n",
        "|------------------|-------------------------|-------------------|\n",
        "| Tensor Creation | `torch.from_numpy(array)` | `torch.tensor(data)` |\n",
        "| | `torch.as_tensor(data)` | `torch.zeros(shape)` |\n",
        "| | | `torch.ones(shape)` |\n",
        "| | | `torch.randn(shape)` |\n",
        "| | | `torch.arange(start, end, step)` |\n",
        "| | | `torch.linspace(start, end, steps)` |\n",
        "| Reshaping | `tensor.view(shape)` | `tensor.reshape(shape)` |\n",
        "| | `tensor.view_as(other)` | `tensor.reshape_as(other)` |\n",
        "| | `tensor.flatten()`* | `tensor.clone().flatten()` |\n",
        "| | `tensor.squeeze()` | `tensor.squeeze().clone()` |\n",
        "| | `tensor.unsqueeze(dim)` | `tensor.unsqueeze(dim).clone()` |\n",
        "| Indexing & Slicing | `tensor[index]` | `tensor[index].clone()` |\n",
        "| | `tensor[start:end]` | `tensor[start:end].clone()` |\n",
        "| | `tensor[mask]` | `tensor[mask].clone()` |\n",
        "| Sorting | `tensor.sort(dim)` | `tensor.sort(dim).clone()` |\n",
        "| | `tensor.topk(k, dim)` | `tensor.topk(k, dim).clone()` |\n",
        "| Mathematical Operations | `tensor.add_(value)` | `tensor.add(value)` |\n",
        "| | `tensor.mul_(value)` | `tensor.mul(value)` |\n",
        "| | `tensor.zero_()` | `torch.zeros_like(tensor)` |\n",
        "| | `tensor.fill_(value)` | `tensor.clone().fill_(value)` |\n",
        "| Transposition | `tensor.transpose(dim1, dim2)` | `tensor.transpose(dim1, dim2).clone()` |\n",
        "| | `tensor.permute(dims)` | `tensor.permute(dims).clone()` |\n",
        "| | `tensor.T` | `tensor.T.clone()` |\n",
        "| Gradient Operations | `tensor.detach()` | `tensor.detach().clone()` |\n",
        "| Memory Management | - ** | `tensor.contiguous()` |\n",
        "| | `tensor.storage()` | `tensor.storage().clone()` |\n",
        "| Advanced Operations | `tensor.gather(dim, index)` | `tensor.gather(dim, index).clone()` |\n",
        "| | `tensor.scatter_(dim, index, src)` | `tensor.scatter(dim, index, src)` |\n",
        "| | `tensor.masked_fill_(mask, value)` | `tensor.masked_fill(mask, value)` |\n",
        "| | `tensor.masked_select(mask)` | `tensor.masked_select(mask).clone()` |\n",
        "\n",
        "\\* flatten returns original if already flat, view if contiguous and flattened clone if non-contiguous  \n",
        "\\*\\* if already contiguous, share\n"
      ]
    },
    {
      "cell_type": "code",
      "execution_count": 11,
      "metadata": {},
      "outputs": [
        {
          "name": "stdout",
          "output_type": "stream",
          "text": [
            "Is b a view of a? False\n",
            "Is c a view of a? True\n",
            "tensor([[3, 3, 3],\n",
            "        [3, 3, 3]])\n",
            "tensor([[2, 2, 2],\n",
            "        [2, 2, 2]])\n",
            "tensor([[3, 3, 3],\n",
            "        [3, 3, 3]])\n"
          ]
        }
      ],
      "source": [
        "# Verifying whether a tensor is a view of another tensor\n",
        "a = torch.tensor([[1, 2, 3], [4, 5, 6]])\n",
        "\n",
        "b = a.clone().fill_(2)\n",
        "c = a.fill_(2)\n",
        "a.fill_(3)\n",
        "print(f\"Is b a view of a? {b._base is a or b is a}\")\n",
        "print(f\"Is c a view of a? {c._base is a or c is a}\")\n",
        "\n",
        "print(a, b, c, sep=\"\\n\")\n"
      ]
    },
    {
      "cell_type": "markdown",
      "metadata": {
        "vscode": {
          "languageId": "raw"
        }
      },
      "source": [
        "## 3. Mathematical Operations\n",
        "\n",
        "Basic arithmetic, matrix operations, and statistical functions.\n",
        "\n",
        "> Broadcasting primer:\n",
        "> * if number of dimensions of the two tensors are different, prepend 1s to the dimension of the tensor with fewer dimensions until they are the same.\n",
        "> * start the check from right to left\n",
        "> * if the dimensions are not equal, and one of them is 1, the tensor with dimension 1 is broadcasted to the dimension of the other tensor.\n",
        "> * i.e values of other dimensions are repeated in this dimension to match the value of this dimension of the other tensor.\n",
        "> * if the dimensions are not equal, and one of them is not 1, the tensors are not broadcastable.\n"
      ]
    },
    {
      "cell_type": "code",
      "execution_count": 12,
      "metadata": {},
      "outputs": [
        {
          "name": "stdout",
          "output_type": "stream",
          "text": [
            "Broadcasting Semantics Examples:\n",
            "==================================================\n",
            "Example 1 - Same shapes (5,7,3):\n",
            "x.shape: torch.Size([5, 7, 3]), y.shape: torch.Size([5, 7, 3])\n",
            "Broadcastable: True (same shapes)\n",
            "Result shape: torch.Size([5, 7, 3])\n",
            "\n",
            "Example 2 - Empty tensor:\n",
            "x.shape: torch.Size([0]), y.shape: torch.Size([2, 2])\n",
            "Broadcastable: False - The size of tensor a (0) must match the size of tensor b (2) at non-singleton dimension 1\n",
            "\n",
            "Example 3 - Trailing dimensions alignment:\n",
            "x.shape: torch.Size([5, 3, 4, 1]), y.shape: torch.Size([3, 1, 1])\n",
            "Broadcastable: True\n",
            "Result shape: torch.Size([5, 3, 4, 1])\n",
            "\n",
            "Example 4 - Mismatched dimensions:\n",
            "x.shape: torch.Size([5, 2, 4, 1]), y.shape: torch.Size([3, 1, 1])\n",
            "Broadcastable: False - The size of tensor a (2) must match the size of tensor b (3) at non-singleton dimension 1\n",
            "\n",
            "Example 5 - Practical broadcasting:\n",
            "a.shape: torch.Size([2, 3]), b.shape: torch.Size([3])\n",
            "a:\n",
            "tensor([[1, 2, 3],\n",
            "        [4, 5, 6]])\n",
            "b: tensor([10, 20, 30])\n",
            "a + b (broadcasted):\n",
            "tensor([[11, 22, 33],\n",
            "        [14, 25, 36]])\n"
          ]
        }
      ],
      "source": [
        "# Broadcasting semantics\n",
        "print(\"Broadcasting Semantics Examples:\")\n",
        "print(\"=\" * 50)\n",
        "\n",
        "# Example 1: Same shapes are always broadcastable\n",
        "x = torch.empty(5, 7, 3)\n",
        "y = torch.empty(5, 7, 3)\n",
        "print(\"Example 1 - Same shapes (5,7,3):\")\n",
        "print(f\"x.shape: {x.shape}, y.shape: {y.shape}\")\n",
        "# Same shapes are always broadcastable (i.e. the above rules always hold)\n",
        "try:\n",
        "    result = x + y\n",
        "    print(\"Broadcastable: True (same shapes)\")\n",
        "    print(f\"Result shape: {result.shape}\\n\")\n",
        "except RuntimeError as e:\n",
        "    print(f\"Broadcastable: False - {e}\\n\")\n",
        "\n",
        "# Example 2: Empty tensor with insufficient dimensions\n",
        "x = torch.empty((0,))\n",
        "y = torch.empty(2, 2)\n",
        "print(\"Example 2 - Empty tensor:\")\n",
        "print(f\"x.shape: {x.shape}, y.shape: {y.shape}\")\n",
        "# x and y are not broadcastable, because x does not have at least 1 dimension\n",
        "try:\n",
        "    result = x + y\n",
        "    print(\"Broadcastable: True\")\n",
        "    print(f\"Result shape: {result.shape}\\n\")\n",
        "except RuntimeError as e:\n",
        "    print(f\"Broadcastable: False - {e}\\n\")\n",
        "\n",
        "# Example 3: Trailing dimensions can line up\n",
        "x = torch.empty(5, 3, 4, 1)\n",
        "y = torch.empty(3, 1, 1)\n",
        "print(\"Example 3 - Trailing dimensions alignment:\")\n",
        "print(f\"x.shape: {x.shape}, y.shape: {y.shape}\")\n",
        "# x and y are broadcastable.\n",
        "# 1st trailing dimension: both have size 1\n",
        "# 2nd trailing dimension: y has size 1\n",
        "# 3rd trailing dimension: x size == y size\n",
        "# 4th trailing dimension: y dimension doesn't exist\n",
        "try:\n",
        "    result = x + y\n",
        "    print(\"Broadcastable: True\")\n",
        "    print(f\"Result shape: {result.shape}\\n\")\n",
        "except RuntimeError as e:\n",
        "    print(f\"Broadcastable: False - {e}\\n\")\n",
        "\n",
        "# Example 4: Mismatched trailing dimensions\n",
        "x = torch.empty(5, 2, 4, 1)\n",
        "y = torch.empty(3, 1, 1)\n",
        "print(\"Example 4 - Mismatched dimensions:\")\n",
        "print(f\"x.shape: {x.shape}, y.shape: {y.shape}\")\n",
        "# x and y are not broadcastable, because in the 3rd trailing dimension 2 != 3\n",
        "try:\n",
        "    result = x + y\n",
        "    print(\"Broadcastable: True\")\n",
        "    print(f\"Result shape: {result.shape}\\n\")\n",
        "except RuntimeError as e:\n",
        "    print(f\"Broadcastable: False - {e}\\n\")\n",
        "\n",
        "# Example 5: Practical broadcasting demonstration\n",
        "a = torch.tensor([[1, 2, 3], [4, 5, 6]])  # Shape: (2, 3)\n",
        "b = torch.tensor([10, 20, 30])  # Shape: (3,)\n",
        "print(\"Example 5 - Practical broadcasting:\")\n",
        "print(f\"a.shape: {a.shape}, b.shape: {b.shape}\")\n",
        "print(f\"a:\\n{a}\")\n",
        "print(f\"b: {b}\")\n",
        "try:\n",
        "    result = a + b\n",
        "    print(f\"a + b (broadcasted):\\n{result}\")\n",
        "except RuntimeError as e:\n",
        "    print(f\"Broadcasting failed: {e}\")\n"
      ]
    },
    {
      "cell_type": "code",
      "execution_count": 13,
      "metadata": {},
      "outputs": [
        {
          "name": "stdout",
          "output_type": "stream",
          "text": [
            "Matrix A:\n",
            "tensor([[1, 2],\n",
            "        [3, 4]])\n",
            "\n",
            "Matrix B:\n",
            "tensor([[5, 6],\n",
            "        [7, 8]])\n",
            "\n",
            "A + B:\n",
            "tensor([[ 6,  8],\n",
            "        [10, 12]])\n",
            "\n",
            "A - B:\n",
            "tensor([[-4, -4],\n",
            "        [-4, -4]])\n",
            "\n",
            "A * B (element-wise):\n",
            "tensor([[ 5, 12],\n",
            "        [21, 32]])\n",
            "\n",
            "A / B:\n",
            "tensor([[0.2000, 0.3333],\n",
            "        [0.4286, 0.5000]])\n",
            "\n",
            "A^2:\n",
            "tensor([[ 1,  4],\n",
            "        [ 9, 16]])\n"
          ]
        }
      ],
      "source": [
        "# Basic arithmetic\n",
        "a = torch.tensor([[1, 2], [3, 4]])\n",
        "b = torch.tensor([[5, 6], [7, 8]])\n",
        "print(f\"Matrix A:\\n{a}\")\n",
        "print(f\"\\nMatrix B:\\n{b}\")\n",
        "\n",
        "c = a + b  # Element-wise addition\n",
        "print(f\"\\nA + B:\\n{c}\")\n",
        "\n",
        "c = a - b  # Element-wise subtraction\n",
        "print(f\"\\nA - B:\\n{c}\")\n",
        "\n",
        "c = a * b  # Element-wise multiplication\n",
        "print(f\"\\nA * B (element-wise):\\n{c}\")\n",
        "\n",
        "c = a / b  # Element-wise division\n",
        "print(f\"\\nA / B:\\n{c}\")\n",
        "\n",
        "c = a**2  # Element-wise power\n",
        "print(f\"\\nA^2:\\n{c}\")\n"
      ]
    },
    {
      "cell_type": "code",
      "execution_count": 14,
      "metadata": {},
      "outputs": [
        {
          "name": "stdout",
          "output_type": "stream",
          "text": [
            "Matrix multiplication (matmul):\n",
            "tensor([[19, 22],\n",
            "        [43, 50]])\n",
            "\n",
            "Matrix multiplication (@):\n",
            "tensor([[19, 22],\n",
            "        [43, 50]])\n",
            "\n",
            "Matrix multiplication (mm):\n",
            "tensor([[19, 22],\n",
            "        [43, 50]])\n"
          ]
        }
      ],
      "source": [
        "# Matrix operations\n",
        "c = torch.matmul(a, b)  # Matrix multiplication\n",
        "print(f\"Matrix multiplication (matmul):\\n{c}\")\n",
        "\n",
        "c = a @ b  # Alternative syntax\n",
        "print(f\"\\nMatrix multiplication (@):\\n{c}\")\n",
        "\n",
        "c = torch.mm(a, b)  # 2D matrix multiplication (more efficient but does not broadcast)\n",
        "print(f\"\\nMatrix multiplication (mm):\\n{c}\")\n"
      ]
    },
    {
      "cell_type": "code",
      "execution_count": 15,
      "metadata": {},
      "outputs": [
        {
          "name": "stdout",
          "output_type": "stream",
          "text": [
            "tensor([1., 2., 3.])\n",
            "tensor([1., 4., 9.]) tensor(14.) tensor([14., 14.])\n"
          ]
        }
      ],
      "source": [
        "# Edge cases\n",
        "x = torch.tensor([1, 2, 3], dtype=torch.float32)\n",
        "print(x)\n",
        "print(\n",
        "    x * x,  # Element-wise multiplication\n",
        "    x @ x,  # Dot product\n",
        "    x\n",
        "    @ torch.tensor(\n",
        "        [[1, 1], [2, 2], [3, 3]], dtype=torch.float32\n",
        "    ),  # Matrix multiplication\n",
        ")\n"
      ]
    },
    {
      "cell_type": "markdown",
      "metadata": {
        "vscode": {
          "languageId": "raw"
        }
      },
      "source": [
        "### Matrix Multiplication Broadcasting Compatibility:\n",
        "\n",
        "Input Tensors:\n",
        "- **Input tensor**: $(j \\times 1 \\times n \\times m)$\n",
        "- **Other tensor**: $(k \\times m \\times p)$\n",
        "\n",
        "These inputs are valid for broadcasting even though the final two dimensions (i.e., the matrix dimensions) are different.\n",
        "\n",
        "Output Tensor: The result will be a $(j \\times k \\times n \\times p)$ tensor.\n"
      ]
    },
    {
      "cell_type": "code",
      "execution_count": 16,
      "metadata": {},
      "outputs": [
        {
          "name": "stdout",
          "output_type": "stream",
          "text": [
            "Random tensor:\n",
            "tensor([[-1.6610, -0.2457, -0.8091, -1.2305],\n",
            "        [-0.9549,  0.8365, -0.1621,  1.7332],\n",
            "        [-2.1960, -0.2678,  0.5435, -0.9055]])\n",
            "\n",
            "Mean: -0.4433\n",
            "Sum: -5.3194\n",
            "Max: 1.7332\n",
            "Min: -2.1960\n",
            "Std: 1.0988\n",
            "Index of max: 7\n",
            "Index of min: 8\n",
            "\n",
            "Row sums (shape: torch.Size([4])): tensor([-4.8119,  0.3229, -0.4276, -0.4029])\n",
            "Column sums (shape: torch.Size([3])): tensor([-3.9463,  1.4527, -2.8258])\n",
            "Row means (shape: torch.Size([1, 4])):\n",
            "tensor([[-1.6040,  0.1076, -0.1425, -0.1343]])\n"
          ]
        }
      ],
      "source": [
        "# Statistical operations\n",
        "x = torch.randn(3, 4)\n",
        "print(f\"Random tensor:\\n{x}\")\n",
        "\n",
        "mean_val = x.mean()\n",
        "sum_val = x.sum()\n",
        "max_val = x.max()\n",
        "min_val = x.min()\n",
        "std_val = x.std()\n",
        "index_of_max = x.argmax()\n",
        "index_of_min = x.argmin()\n",
        "\n",
        "print(f\"\\nMean: {mean_val:.4f}\")\n",
        "print(f\"Sum: {sum_val:.4f}\")\n",
        "print(f\"Max: {max_val:.4f}\")\n",
        "print(f\"Min: {min_val:.4f}\")\n",
        "print(f\"Std: {std_val:.4f}\")\n",
        "print(f\"Index of max: {index_of_max}\")\n",
        "print(f\"Index of min: {index_of_min}\")\n",
        "\n",
        "# Reduction operations\n",
        "row_sums = x.sum(dim=0)  # Sum along rows\n",
        "col_sums = x.sum(dim=1)  # Sum along columns\n",
        "row_means = x.mean(dim=0, keepdim=True)  # Keep dimensions\n",
        "\n",
        "print(f\"\\nRow sums (shape: {row_sums.shape}): {row_sums}\")\n",
        "print(f\"Column sums (shape: {col_sums.shape}): {col_sums}\")\n",
        "print(f\"Row means (shape: {row_means.shape}):\\n{row_means}\")\n"
      ]
    },
    {
      "cell_type": "markdown",
      "metadata": {
        "vscode": {
          "languageId": "raw"
        }
      },
      "source": [
        "## 4. Gradient Operations\n",
        "\n",
        "Automatic differentiation and gradient computation.\n"
      ]
    },
    {
      "cell_type": "code",
      "execution_count": 17,
      "metadata": {},
      "outputs": [
        {
          "name": "stdout",
          "output_type": "stream",
          "text": [
            "Input tensor: tensor([2., 3.], requires_grad=True)\n",
            "Requires grad: True\n",
            "\n",
            "Function: y = x^2 + 3x + 1\n",
            "Output: tensor([11., 19.], grad_fn=<AddBackward0>)\n",
            "\n",
            "Gradients: tensor([7., 9.])\n",
            "\n",
            "Gradients after zeroing: tensor([0., 0.])\n"
          ]
        }
      ],
      "source": [
        "# Automatic differentiation\n",
        "x = torch.tensor([2.0, 3.0], requires_grad=True)\n",
        "print(f\"Input tensor: {x}\")\n",
        "print(f\"Requires grad: {x.requires_grad}\")\n",
        "\n",
        "y = x**2 + 3 * x + 1\n",
        "print(\"\\nFunction: y = x^2 + 3x + 1\")\n",
        "print(f\"Output: {y}\")\n",
        "\n",
        "y.backward(torch.ones_like(y))  # Compute gradients\n",
        "gradients = x.grad  # Access gradients\n",
        "print(f\"\\nGradients: {gradients}\")\n",
        "\n",
        "x.grad.zero_()  # Zero gradients\n",
        "print(f\"\\nGradients after zeroing: {x.grad}\")\n"
      ]
    },
    {
      "cell_type": "code",
      "execution_count": 18,
      "metadata": {},
      "outputs": [
        {
          "name": "stdout",
          "output_type": "stream",
          "text": [
            "Computed without gradients: tensor([4., 9.])\n",
            "y.requires_grad: False\n"
          ]
        }
      ],
      "source": [
        "# No gradient computation\n",
        "with torch.no_grad():\n",
        "    y = x**2  # No gradients computed\n",
        "    print(f\"Computed without gradients: {y}\")\n",
        "    print(f\"y.requires_grad: {y.requires_grad}\")\n"
      ]
    },
    {
      "cell_type": "markdown",
      "metadata": {
        "vscode": {
          "languageId": "raw"
        }
      },
      "source": [
        "## 5. Device Operations\n",
        "\n",
        "Moving tensors between CPU and GPU.\n"
      ]
    },
    {
      "cell_type": "code",
      "execution_count": 19,
      "metadata": {},
      "outputs": [
        {
          "name": "stdout",
          "output_type": "stream",
          "text": [
            "Using device: cpu\n",
            "\n",
            "Original tensor device: cpu\n",
            "\n",
            "Moved to device: cpu\n",
            "\n",
            "Moved back to CPU: cpu\n"
          ]
        }
      ],
      "source": [
        "# Device management\n",
        "device = torch.device(\"cuda\" if torch.cuda.is_available() else \"cpu\")\n",
        "print(f\"Using device: {device}\")\n",
        "\n",
        "x = torch.randn(3, 3)\n",
        "print(f\"\\nOriginal tensor device: {x.device}\")\n",
        "\n",
        "x_gpu = x.to(device)  # Move to GPU\n",
        "print(f\"\\nMoved to device: {x_gpu.device}\")\n",
        "\n",
        "x_cpu = x_gpu.cpu()  # Move to CPU\n",
        "print(f\"\\nMoved back to CPU: {x_cpu.device}\")\n"
      ]
    },
    {
      "cell_type": "markdown",
      "metadata": {},
      "source": [
        "## 6. Concatenation and Stacking\n",
        "\n",
        "Combining tensors along different dimensions.\n",
        "\n",
        "stack can also be used for interleaving different tensors: see dim=-1 stacking and then reshape.\n",
        "Better way is to use einops.\n",
        "https://discuss.pytorch.org/t/how-to-interleave-two-tensors-along-certain-dimension/11332/6\n"
      ]
    },
    {
      "cell_type": "code",
      "execution_count": 20,
      "metadata": {},
      "outputs": [
        {
          "name": "stdout",
          "output_type": "stream",
          "text": [
            "Tensor A:\n",
            "tensor([[ 0.2589,  0.2876,  1.2405],\n",
            "        [-0.1860, -0.7719, -1.3606]])\n",
            "\n",
            "Tensor B:\n",
            "tensor([[-0.1713, -1.3692,  0.3214],\n",
            "        [-1.2022, -2.3234,  0.1630]])\n",
            "\n",
            "Tensor C:\n",
            "tensor([[ 0.9134, -0.3114,  0.6402],\n",
            "        [ 0.4092,  1.0252,  0.4815]])\n",
            "\n",
            "Vertical concatenation (dim=0):\n",
            "tensor([[ 0.2589,  0.2876,  1.2405],\n",
            "        [-0.1860, -0.7719, -1.3606],\n",
            "        [-0.1713, -1.3692,  0.3214],\n",
            "        [-1.2022, -2.3234,  0.1630],\n",
            "        [ 0.9134, -0.3114,  0.6402],\n",
            "        [ 0.4092,  1.0252,  0.4815]])\n",
            "Shape: torch.Size([6, 3])\n",
            "\n",
            "Horizontal concatenation (dim=1):\n",
            "tensor([[ 0.2589,  0.2876,  1.2405, -0.1713, -1.3692,  0.3214,  0.9134, -0.3114,\n",
            "          0.6402],\n",
            "        [-0.1860, -0.7719, -1.3606, -1.2022, -2.3234,  0.1630,  0.4092,  1.0252,\n",
            "          0.4815]])\n",
            "Shape: torch.Size([2, 9])\n",
            "\n",
            "Stacked (dim=0):\n",
            "tensor([[[ 0.2589,  0.2876,  1.2405],\n",
            "         [-0.1860, -0.7719, -1.3606]],\n",
            "\n",
            "        [[-0.1713, -1.3692,  0.3214],\n",
            "         [-1.2022, -2.3234,  0.1630]],\n",
            "\n",
            "        [[ 0.9134, -0.3114,  0.6402],\n",
            "         [ 0.4092,  1.0252,  0.4815]]])\n",
            "Shape: torch.Size([3, 2, 3])\n",
            "\n",
            "Stacked (dim=1):\n",
            "tensor([[[ 0.2589,  0.2876,  1.2405],\n",
            "         [-0.1713, -1.3692,  0.3214],\n",
            "         [ 0.9134, -0.3114,  0.6402]],\n",
            "\n",
            "        [[-0.1860, -0.7719, -1.3606],\n",
            "         [-1.2022, -2.3234,  0.1630],\n",
            "         [ 0.4092,  1.0252,  0.4815]]])\n",
            "Shape: torch.Size([2, 3, 3])\n",
            "\n",
            "Stacked (dim=2):\n",
            "tensor([[[ 0.2589, -0.1713,  0.9134],\n",
            "         [ 0.2876, -1.3692, -0.3114],\n",
            "         [ 1.2405,  0.3214,  0.6402]],\n",
            "\n",
            "        [[-0.1860, -1.2022,  0.4092],\n",
            "         [-0.7719, -2.3234,  1.0252],\n",
            "         [-1.3606,  0.1630,  0.4815]]])\n",
            "Shape: torch.Size([2, 3, 3])\n",
            "Interleaved (dim=0):\n",
            "tensor([[ 0.2589,  0.2876,  1.2405],\n",
            "        [ 0.2589,  0.2876,  1.2405],\n",
            "        [-0.1860, -0.7719, -1.3606],\n",
            "        [-0.1860, -0.7719, -1.3606]])\n",
            "Shape: torch.Size([4, 3])\n",
            "Interleaved (dim=1):\n",
            "tensor([[ 0.2589,  0.2589,  0.2876,  0.2876,  1.2405,  1.2405],\n",
            "        [-0.1860, -0.1860, -0.7719, -0.7719, -1.3606, -1.3606]])\n",
            "Shape: torch.Size([2, 6])\n",
            "Interleaved (dim=1):\n",
            "tensor([[ 0.2589,  0.2876,  0.2876,  1.2405,  1.2405,  1.2405],\n",
            "        [-0.1860, -0.7719, -0.7719, -1.3606, -1.3606, -1.3606]])\n",
            "Shape: torch.Size([2, 6])\n"
          ]
        }
      ],
      "source": [
        "# Concatenation\n",
        "a = torch.randn(2, 3)\n",
        "b = torch.randn(2, 3)\n",
        "c = torch.randn(2, 3)\n",
        "\n",
        "print(f\"Tensor A:\\n{a}\")\n",
        "print(f\"\\nTensor B:\\n{b}\")\n",
        "print(f\"\\nTensor C:\\n{c}\")\n",
        "\n",
        "concat_vertical = torch.cat([a, b, c], dim=0)  # Stack vertically\n",
        "print(f\"\\nVertical concatenation (dim=0):\\n{concat_vertical}\")\n",
        "print(f\"Shape: {concat_vertical.shape}\")\n",
        "\n",
        "concat_horizontal = torch.cat([a, b, c], dim=1)  # Stack horizontally\n",
        "print(f\"\\nHorizontal concatenation (dim=1):\\n{concat_horizontal}\")\n",
        "print(f\"Shape: {concat_horizontal.shape}\")\n",
        "\n",
        "# Stacking (adds new dimension)\n",
        "stacked = torch.stack([a, b, c], dim=0)  # Shape: (3, 2, 3)\n",
        "print(f\"\\nStacked (dim=0):\\n{stacked}\")\n",
        "print(f\"Shape: {stacked.shape}\")\n",
        "\n",
        "stacked = torch.stack([a, b, c], dim=1)  # Shape: (2, 3, 3)\n",
        "print(f\"\\nStacked (dim=1):\\n{stacked}\")\n",
        "print(f\"Shape: {stacked.shape}\")\n",
        "\n",
        "stacked = torch.stack([a, b, c], dim=2)  # Shape: (2, 3, 3)\n",
        "print(f\"\\nStacked (dim=2):\\n{stacked}\")\n",
        "print(f\"Shape: {stacked.shape}\")\n",
        "\n",
        "# Repeat interleaving\n",
        "# Same number of repeats:\n",
        "interleaved0 = a.repeat_interleave(2, dim=0)\n",
        "print(f\"Interleaved (dim=0):\\n{interleaved0}\")\n",
        "print(f\"Shape: {interleaved0.shape}\")\n",
        "\n",
        "# Different dimension:\n",
        "interleaved1 = a.repeat_interleave(2, dim=1)\n",
        "print(f\"Interleaved (dim=1):\\n{interleaved1}\")\n",
        "print(f\"Shape: {interleaved1.shape}\")\n",
        "\n",
        "# Different number of repeats:\n",
        "interleaved_custom = a.repeat_interleave(torch.tensor([1, 2, 3]), dim=1)\n",
        "print(f\"Interleaved (dim=1):\\n{interleaved_custom}\")\n",
        "print(f\"Shape: {interleaved_custom.shape}\")\n"
      ]
    },
    {
      "cell_type": "markdown",
      "metadata": {},
      "source": [
        "## 7. Permutation and Transposition\n",
        "\n",
        "Rearranging tensor dimensions.\n"
      ]
    },
    {
      "cell_type": "code",
      "execution_count": 21,
      "metadata": {},
      "outputs": [
        {
          "name": "stdout",
          "output_type": "stream",
          "text": [
            "Original tensor shape: torch.Size([2, 3, 4])\n",
            "\n",
            "Transposed (0,1) shape: torch.Size([3, 2, 4])\n",
            "\n",
            "Permuted (2,0,1) shape: torch.Size([4, 2, 3])\n"
          ]
        }
      ],
      "source": [
        "# Permutation and transposition examples\n",
        "x = torch.randn(2, 3, 4)\n",
        "print(f\"Original tensor shape: {x.shape}\")\n",
        "\n",
        "transposed = x.transpose(0, 1)  # Swap dimensions 0 and 1\n",
        "print(f\"\\nTransposed (0,1) shape: {transposed.shape}\")\n",
        "\n",
        "permuted = x.permute(2, 0, 1)  # Reorder dimensions\n",
        "print(f\"\\nPermuted (2,0,1) shape: {permuted.shape}\")\n"
      ]
    },
    {
      "cell_type": "markdown",
      "metadata": {},
      "source": [
        "## 8. Gather and Scatter\n",
        "\n",
        "Gather and scatter operations for advanced tensor manipulation.\n",
        "\n",
        "Gather: \n",
        "say you have a tensor x of shape (k, l, m, n). If the tensor is being gathered along dim=2,\n",
        "the dimension of output tensor will be (k, l, p, n) where p can take any value.\n",
        "This dimension will be identical to the dimension of indices.\n",
        "The values of indices must be in the range [0, m-1].\n",
        "\n",
        "https://stackoverflow.com/a/67623659\n",
        "\n",
        "Scatter: inverse of gather. The index specifies the location of the values \n",
        "in the output tensor that a particular value in the input tensor will be placed.\n",
        "The values of indices must be in the range [0, p-1].\n",
        "\n",
        "https://yuyangyy.medium.com/understand-torch-scatter-b0fd6275331c\n"
      ]
    },
    {
      "cell_type": "code",
      "execution_count": 22,
      "metadata": {},
      "outputs": [
        {
          "name": "stdout",
          "output_type": "stream",
          "text": [
            "Input tensor x (3 rows, 2 columns):\n",
            "tensor([[10, 11],\n",
            "        [20, 21],\n",
            "        [30, 31]])\n",
            "Index tensor for dim=1 (3 rows, 2 columns):\n",
            "tensor([[0, 1],\n",
            "        [1, 0],\n",
            "        [0, 0]])\n",
            "Gathered tensor along dim=1 (shape torch.Size([3, 2])):\n",
            "tensor([[10, 11],\n",
            "        [21, 20],\n",
            "        [30, 30]])\n",
            "Index tensor for dim=0 (2 rows, 2 columns):\n",
            "tensor([[0, 1],\n",
            "        [2, 0]])\n",
            "Gathered tensor along dim=0 (shape torch.Size([2, 2])):\n",
            "tensor([[10, 21],\n",
            "        [30, 11]])\n"
          ]
        }
      ],
      "source": [
        "# Gather operation\n",
        "# Create an input tensor with 3 rows and 2 columns\n",
        "x = torch.tensor([[10, 11], [20, 21], [30, 31]])\n",
        "print(f\"Input tensor x (3 rows, 2 columns):\\n{x}\")\n",
        "\n",
        "# Example 1: Gather along dim=1 (columns)\n",
        "# The index tensor will have the same number of rows as x (3),\n",
        "# and the number of columns will determine how many elements are gathered per row.\n",
        "# Here, we want to gather 2 elements from each row.\n",
        "indices_dim1 = torch.tensor(\n",
        "    [\n",
        "        [0, 1],  # For row 0 of x, pick column 0 and column 1\n",
        "        [1, 0],  # For row 1 of x, pick column 1 and column 0\n",
        "        [0, 0],  # For row 2 of x, pick column 0 and column 0\n",
        "    ]\n",
        ")\n",
        "\n",
        "print(f\"Index tensor for dim=1 (3 rows, 2 columns):\\n{indices_dim1}\")\n",
        "\n",
        "# The output will have the same shape as indices_dim1 (3, 2).\n",
        "gathered_along_dim1 = torch.gather(x, dim=1, index=indices_dim1)\n",
        "print(\n",
        "    f\"Gathered tensor along dim=1 (shape {gathered_along_dim1.shape}):\\n{gathered_along_dim1}\"\n",
        ")\n",
        "\n",
        "# Explanation for Example 1:\n",
        "# For the first row of 'x' ([10, 11]) and first row of 'indices_dim1' ([0, 1]):\n",
        "#   - We pick the element at index 0 (which is 10) and index 1 (which is 11).\n",
        "#   - The first row of the output is [10, 11].\n",
        "# For the second row of 'x' ([20, 21]) and second row of 'indices_dim1' ([1, 0]):\n",
        "#   - We pick the element at index 1 (which is 21) and index 0 (which is 20).\n",
        "#   - The second row of the output is [21, 20].\n",
        "# This process repeats for each row.\n",
        "\n",
        "# Example 2: Gather along dim=0 (rows)\n",
        "# The index tensor will have the same number of columns as x (2),\n",
        "# and the number of rows will determine how many elements are gathered per column.\n",
        "# Here, we want to gather 2 elements from each column.\n",
        "indices_dim0 = torch.tensor(\n",
        "    [\n",
        "        [\n",
        "            0,\n",
        "            1,\n",
        "        ],  # For column 0 of x, pick row 0 and row 1. For column 1 pick row 0 and row 1\n",
        "        [\n",
        "            2,\n",
        "            0,\n",
        "        ],  # For column 0 of x, pick row 2 and row 0. For column 1 pick row 2 and row 0\n",
        "    ]\n",
        ")\n",
        "\n",
        "print(f\"Index tensor for dim=0 (2 rows, 2 columns):\\n{indices_dim0}\")\n",
        "\n",
        "# Gather elements along dimension 0 (rows)\n",
        "# The output will have the same shape as indices_dim0 (2, 2).\n",
        "gathered_along_dim0 = torch.gather(x, dim=0, index=indices_dim0)\n",
        "print(\n",
        "    f\"Gathered tensor along dim=0 (shape {gathered_along_dim0.shape}):\\n{gathered_along_dim0}\"\n",
        ")\n",
        "\n",
        "# Explanation for Example 2:\n",
        "# For the first column of 'x' ([10, 20, 30]) and first column of 'indices_dim0' ([0, 2]):\n",
        "#   - We pick the element at index 0 (which is 10) and index 2 (which is 30).\n",
        "#   - The first column of the output is [10, 30].\n",
        "# For the second column of 'x' ([11, 21, 31]) and second column of 'indices_dim0' ([1, 0]):\n",
        "#   - We pick the element at index 1 (which is 21) and index 0 (which is 11).\n",
        "#   - The second column of the output is [21, 11].\n",
        "# This process repeats for each column.\n"
      ]
    },
    {
      "cell_type": "code",
      "execution_count": 23,
      "metadata": {},
      "outputs": [
        {
          "name": "stdout",
          "output_type": "stream",
          "text": [
            "Values to scatter:\n",
            "tensor([[100, 101],\n",
            "        [200, 201],\n",
            "        [300, 301]])\n",
            "Scattered tensor (shape torch.Size([3, 2])):\n",
            "tensor([[100, 101],\n",
            "        [201, 200],\n",
            "        [301,   0]])\n"
          ]
        }
      ],
      "source": [
        "# Scatter operation (inverse of gather)\n",
        "# Create a tensor to scatter values into\n",
        "scattered = torch.zeros_like(x)\n",
        "values = torch.tensor([[100, 101], [200, 201], [300, 301]])\n",
        "print(f\"Values to scatter:\\n{values}\")\n",
        "\n",
        "# Scatter values using the same indices as gather\n",
        "scattered.scatter_(1, indices_dim1, values)\n",
        "print(f\"Scattered tensor (shape {scattered.shape}):\\n{scattered}\")\n",
        "\n",
        "# Explanation for scatter:\n",
        "# For the first row, indices_dim1[0] = [0, 1] and values[0] = [100, 101]:\n",
        "#   - Place 100 at position 0 and 101 at position 1 in scattered[0]\n",
        "#   - Result: scattered[0] = [100, 101]\n",
        "# For the second row, indices_dim1[1] = [1, 0] and values[1] = [200, 201]:\n",
        "#   - Place 200 at position 1 and 201 at position 0 in scattered[1]\n",
        "#   - Result: scattered[1] = [201, 200]\n",
        "# This process repeats for each row.\n"
      ]
    },
    {
      "cell_type": "markdown",
      "metadata": {},
      "source": [
        "## 9. Masked Operations\n",
        "\n",
        "Working with boolean masks for conditional operations.\n"
      ]
    },
    {
      "cell_type": "code",
      "execution_count": 24,
      "metadata": {},
      "outputs": [
        {
          "name": "stdout",
          "output_type": "stream",
          "text": [
            "Original tensor:\n",
            "tensor([[-0.8298,  1.5096, -1.4556,  0.5961],\n",
            "        [ 0.6852, -0.0684, -0.8884, -0.4328],\n",
            "        [-0.8599, -0.3564, -1.1568, -1.1360]])\n",
            "\n",
            "Mask (x > 0):\n",
            "tensor([[False,  True, False,  True],\n",
            "        [ True, False, False, False],\n",
            "        [False, False, False, False]])\n",
            "\n",
            "Masked fill (positive values set to 0):\n",
            "tensor([[-0.8298,  0.0000, -1.4556,  0.0000],\n",
            "        [ 0.0000, -0.0684, -0.8884, -0.4328],\n",
            "        [-0.8599, -0.3564, -1.1568, -1.1360]])\n",
            "\n",
            "Selected positive values: tensor([1.5096, 0.5961, 0.6852])\n",
            "\n",
            "Custom filled (where mask is True, keep x; else -inf):\n",
            "tensor([[  -inf, 1.5096,   -inf, 0.5961],\n",
            "        [0.6852,   -inf,   -inf,   -inf],\n",
            "        [  -inf,   -inf,   -inf,   -inf]])\n"
          ]
        }
      ],
      "source": [
        "# Masked fill\n",
        "x = torch.randn(3, 4)\n",
        "mask = x > 0\n",
        "print(f\"Original tensor:\\n{x}\")\n",
        "print(f\"\\nMask (x > 0):\\n{mask}\")\n",
        "\n",
        "masked_tensor = x.masked_fill(mask, 0)\n",
        "print(f\"\\nMasked fill (positive values set to 0):\\n{masked_tensor}\")\n",
        "\n",
        "# Masked select\n",
        "selected = x.masked_select(mask)\n",
        "print(f\"\\nSelected positive values: {selected}\")\n",
        "\n",
        "# Custom filling: can fill with anything\n",
        "# where mask is true, fill with x, otherwise fill with -inf\n",
        "big_negative = torch.full_like(\n",
        "    x, float(\"-inf\")\n",
        ")  # note that the size of the tensor is the same as x and it can contain any value\n",
        "custom_filled = torch.where(mask, x, big_negative)\n",
        "print(f\"\\nCustom filled (where mask is True, keep x; else -inf):\\n{custom_filled}\")\n"
      ]
    },
    {
      "cell_type": "markdown",
      "metadata": {},
      "source": [
        "## 10. Memory Optimization\n",
        "\n",
        "In-place operations and memory sharing techniques.\n"
      ]
    },
    {
      "cell_type": "code",
      "execution_count": 25,
      "metadata": {},
      "outputs": [
        {
          "name": "stdout",
          "output_type": "stream",
          "text": [
            "Original tensor:\n",
            "tensor([[-0.7810,  0.4403, -0.2016],\n",
            "        [-2.0480, -0.1610, -0.5502],\n",
            "        [-1.0784,  0.9514,  2.6551]])\n",
            "\n",
            "After add_(1):\n",
            "tensor([[ 0.2190,  1.4403,  0.7984],\n",
            "        [-1.0480,  0.8390,  0.4498],\n",
            "        [-0.0784,  1.9514,  3.6551]])\n",
            "\n",
            "After mul_(2):\n",
            "tensor([[ 0.4380,  2.8805,  1.5967],\n",
            "        [-2.0960,  1.6781,  0.8997],\n",
            "        [-0.1568,  3.9028,  7.3103]])\n",
            "\n",
            "After zero_():\n",
            "tensor([[0., 0., 0.],\n",
            "        [0., 0., 0.],\n",
            "        [0., 0., 0.]])\n",
            "\n",
            "x.data_ptr(): 707896192\n",
            "y.data_ptr(): 707896192\n",
            "z.data_ptr(): 707856896\n",
            "\n",
            "x and y share memory: True\n",
            "x and z share memory: False\n",
            "y shares memory with x: True\n",
            "z shares memory with x: False\n"
          ]
        }
      ],
      "source": [
        "# In-place operations (save memory)\n",
        "x = torch.randn(3, 3)\n",
        "print(f\"Original tensor:\\n{x}\")\n",
        "\n",
        "x.add_(1)  # In-place addition\n",
        "print(f\"\\nAfter add_(1):\\n{x}\")\n",
        "\n",
        "x.mul_(2)  # In-place multiplication\n",
        "print(f\"\\nAfter mul_(2):\\n{x}\")\n",
        "\n",
        "x.zero_()  # Fill with zeros\n",
        "print(f\"\\nAfter zero_():\\n{x}\")\n",
        "\n",
        "# Memory sharing\n",
        "x = torch.randn(3, 3)\n",
        "y = x.view(-1)  # Shares memory with x\n",
        "z = x.clone()  # Creates new memory\n",
        "\n",
        "print(f\"\\nx.data_ptr(): {x.data_ptr()}\")\n",
        "print(f\"y.data_ptr(): {y.data_ptr()}\")\n",
        "print(f\"z.data_ptr(): {z.data_ptr()}\")\n",
        "print(f\"\\nx and y share memory: {x.data_ptr() == y.data_ptr()}\")\n",
        "print(f\"x and z share memory: {x.data_ptr() == z.data_ptr()}\")\n",
        "\n",
        "# Memory sharing demonstration\n",
        "y = x.view(-1)  # Shares memory with x\n",
        "z = x.clone()  # Creates new memory\n",
        "print(f\"y shares memory with x: {y.storage().data_ptr() == x.storage().data_ptr()}\")\n",
        "print(f\"z shares memory with x: {z.storage().data_ptr() == x.storage().data_ptr()}\")\n"
      ]
    },
    {
      "cell_type": "code",
      "execution_count": 26,
      "metadata": {},
      "outputs": [
        {
          "name": "stdout",
          "output_type": "stream",
          "text": [
            "Output shape with checkpointing: torch.Size([1000, 1000])\n"
          ]
        }
      ],
      "source": [
        "# Gradient checkpointing example\n",
        "def checkpoint_function(x):\n",
        "    return torch.nn.functional.relu(x)\n",
        "\n",
        "\n",
        "# Example of using gradient checkpointing\n",
        "x = torch.randn(1000, 1000, requires_grad=True)\n",
        "y = checkpoint_function(x)  # Memory efficient forward pass\n",
        "\n",
        "# Note: In practice, gradient checkpointing would be used with torch.utils.checkpoint\n",
        "# Example usage in a neural network:\n",
        "\"\"\"\n",
        "class MyModel(nn.Module):\n",
        "    def forward(self, x):\n",
        "        return torch.utils.checkpoint.checkpoint(self.expensive_layer, x)\n",
        "\"\"\"\n",
        "\n",
        "print(f\"Output shape with checkpointing: {y.shape}\")\n"
      ]
    },
    {
      "cell_type": "markdown",
      "metadata": {},
      "source": [
        "## 12. Performance Tips\n",
        "\n",
        "Best practices for efficient PyTorch usage. Also see memory optimization section.\n"
      ]
    },
    {
      "cell_type": "code",
      "execution_count": null,
      "metadata": {},
      "outputs": [
        {
          "name": "stdout",
          "output_type": "stream",
          "text": [
            "\n",
            "Data type: torch.float32\n",
            "\n",
            "Matrix multiplication result shape: torch.Size([100, 300])\n",
            "\n",
            "Inference completed without gradient computation\n"
          ]
        }
      ],
      "source": [
        "# Use appropriate data types\n",
        "x = torch.tensor([1, 2, 3], dtype=torch.float32)  # Specify dtype\n",
        "print(f\"\\nData type: {x.dtype}\")\n",
        "\n",
        "# Use efficient operations\n",
        "A = torch.randn(100, 200)\n",
        "B = torch.randn(200, 300)\n",
        "result = torch.mm(A, B)  # For 2D matrices\n",
        "print(f\"\\nMatrix multiplication result shape: {result.shape}\")\n",
        "\n",
        "# Use torch.no_grad() for inference\n",
        "with torch.no_grad():\n",
        "    # predictions = model(input_data)  # Example usage\n",
        "    pass\n",
        "print(\"\\nInference completed without gradient computation\")\n"
      ]
    },
    {
      "cell_type": "markdown",
      "metadata": {},
      "source": [
        "## 13. Debugging Tensors\n",
        "\n",
        "Useful debugging techniques and tensor inspection.\n"
      ]
    },
    {
      "cell_type": "code",
      "execution_count": null,
      "metadata": {},
      "outputs": [
        {
          "name": "stdout",
          "output_type": "stream",
          "text": [
            "Shape: torch.Size([3, 4])\n",
            "Device: cpu\n",
            "Data type: torch.float32\n",
            "Requires grad: False\n",
            "Memory usage: 48 bytes\n",
            "\n",
            "Has NaN: False\n",
            "Has Inf: False\n",
            "\n",
            "Tensor with NaN: tensor([1., nan, 3.])\n",
            "Has NaN: True\n"
          ]
        }
      ],
      "source": [
        "# Check tensor properties\n",
        "x = torch.randn(3, 4)\n",
        "print(f\"Shape: {x.shape}\")\n",
        "print(f\"Device: {x.device}\")\n",
        "print(f\"Data type: {x.dtype}\")\n",
        "print(f\"Requires grad: {x.requires_grad}\")\n",
        "print(f\"Memory usage: {x.element_size() * x.nelement()} bytes\")\n",
        "\n",
        "# Check for NaN or Inf\n",
        "has_nan = torch.isnan(x).any()\n",
        "has_inf = torch.isinf(x).any()\n",
        "print(f\"\\nHas NaN: {has_nan}\")\n",
        "print(f\"Has Inf: {has_inf}\")\n",
        "\n",
        "# Create tensor with NaN to demonstrate\n",
        "x_with_nan = torch.tensor([1.0, float(\"nan\"), 3.0])\n",
        "has_nan = torch.isnan(x_with_nan).any()\n",
        "print(f\"\\nTensor with NaN: {x_with_nan}\")\n",
        "print(f\"Has NaN: {has_nan}\")\n"
      ]
    },
    {
      "cell_type": "markdown",
      "metadata": {},
      "source": [
        "## 14. Common Mistakes to Avoid\n",
        "\n",
        "Important pitfalls and best practices.\n"
      ]
    },
    {
      "cell_type": "code",
      "execution_count": null,
      "metadata": {},
      "outputs": [
        {
          "name": "stdout",
          "output_type": "stream",
          "text": [
            "Gradient before zeroing: tensor([4.])\n",
            "Gradient after zeroing: tensor([0.])\n",
            "\n",
            "Original requires_grad: True\n",
            "Avoid in-place operations on tensors requiring gradients\n",
            "\n",
            "Use torch.no_grad() for inference\n",
            "\n",
            "Tensor on correct device: cpu\n",
            "\n",
            "Shape assertion passed\n"
          ]
        }
      ],
      "source": [
        "# 1. Forgetting to zero gradients\n",
        "x = torch.tensor([2.0], requires_grad=True)\n",
        "y = x**2\n",
        "y.backward()\n",
        "print(f\"Gradient before zeroing: {x.grad}\")\n",
        "x.grad.zero_()  # Always zero gradients before backward pass\n",
        "print(f\"Gradient after zeroing: {x.grad}\")\n",
        "\n",
        "# 2. Using in-place operations on tensors that require gradients\n",
        "x = torch.tensor([1.0], requires_grad=True)\n",
        "print(f\"\\nOriginal requires_grad: {x.requires_grad}\")\n",
        "# x.add_(1)  # This will cause issues if x.requires_grad=True\n",
        "print(\"Avoid in-place operations on tensors requiring gradients\")\n",
        "\n",
        "# 3. Not using torch.no_grad() for inference\n",
        "with torch.no_grad():\n",
        "    # predictions = model(input_data)\n",
        "    pass\n",
        "print(\"\\nUse torch.no_grad() for inference\")\n",
        "\n",
        "# 4. Creating tensors on wrong device\n",
        "device = torch.device(\"cuda\" if torch.cuda.is_available() else \"cpu\")\n",
        "x = torch.randn(3, 3).to(device)  # Move to correct device\n",
        "print(f\"\\nTensor on correct device: {x.device}\")\n",
        "\n",
        "# 5. Not checking tensor shapes before operations\n",
        "expected_shape = (3, 4)\n",
        "x = torch.randn(3, 4)\n",
        "assert x.shape == expected_shape, f\"Expected {expected_shape}, got {x.shape}\"\n",
        "print(\"\\nShape assertion passed\")\n"
      ]
    },
    {
      "cell_type": "markdown",
      "metadata": {},
      "source": [
        "## 15. Practical Examples\n",
        "\n",
        "Real-world examples of PyTorch operations, including time series normalization, attention mechanisms, and efficient matrix operations.\n"
      ]
    },
    {
      "cell_type": "code",
      "execution_count": null,
      "metadata": {},
      "outputs": [
        {
          "name": "stdout",
          "output_type": "stream",
          "text": [
            "Original data mean: -0.0896, std: 0.9986\n",
            "Normalized data mean: 0.0000, std: 0.9960\n"
          ]
        }
      ],
      "source": [
        "# Example 1: Normalize data\n",
        "def normalize_tensor(x):\n",
        "    mean = x.mean(dim=0, keepdim=True)\n",
        "    std = x.std(dim=0, keepdim=True)\n",
        "    return (x - mean) / (std + 1e-8)\n",
        "\n",
        "\n",
        "data = torch.randn(100, 5)\n",
        "normalized_data = normalize_tensor(data)\n",
        "print(f\"Original data mean: {data.mean():.4f}, std: {data.std():.4f}\")\n",
        "print(\n",
        "    f\"Normalized data mean: {normalized_data.mean():.4f}, std: {normalized_data.std():.4f}\"\n",
        ")"
      ]
    },
    {
      "cell_type": "code",
      "execution_count": null,
      "metadata": {},
      "outputs": [
        {
          "name": "stdout",
          "output_type": "stream",
          "text": [
            "\n",
            "Attention weights shape: torch.Size([10, 10])\n",
            "Sum along last dim: tensor([1.0000, 1.0000, 1.0000, 1.0000, 1.0000, 1.0000, 1.0000, 1.0000, 1.0000,\n",
            "        1.0000])\n"
          ]
        }
      ],
      "source": [
        "# Example 2: Create attention weights\n",
        "def create_attention_weights(query, key, scale=8):\n",
        "    return torch.softmax(torch.matmul(query, key.transpose(-2, -1)) / scale, dim=-1)\n",
        "\n",
        "\n",
        "query = torch.randn(10, 64)\n",
        "key = torch.randn(10, 64)\n",
        "attention_weights = create_attention_weights(query, key)\n",
        "print(f\"\\nAttention weights shape: {attention_weights.shape}\")\n",
        "print(f\"Sum along last dim: {attention_weights.sum(dim=-1)}\")\n"
      ]
    },
    {
      "cell_type": "code",
      "execution_count": null,
      "metadata": {},
      "outputs": [
        {
          "name": "stdout",
          "output_type": "stream",
          "text": [
            "\n",
            "Padded sequences shape: torch.Size([3, 7, 5])\n"
          ]
        }
      ],
      "source": [
        "# Example 3: Pad sequences\n",
        "def pad_sequences(sequences):\n",
        "    max_len = max(seq.size(0) for seq in sequences)\n",
        "    padded = []\n",
        "    for seq in sequences:\n",
        "        padding = max_len - seq.size(0)\n",
        "        padded.append(F.pad(seq, (0, 0, 0, padding)))\n",
        "    return torch.stack(padded)\n",
        "\n",
        "\n",
        "sequences = [torch.randn(3, 5), torch.randn(7, 5), torch.randn(4, 5)]\n",
        "padded_sequences = pad_sequences(sequences)\n",
        "print(f\"\\nPadded sequences shape: {padded_sequences.shape}\")\n"
      ]
    },
    {
      "cell_type": "code",
      "execution_count": null,
      "metadata": {},
      "outputs": [
        {
          "name": "stdout",
          "output_type": "stream",
          "text": [
            "\n",
            "Batch data shape: torch.Size([32, 50, 5])\n"
          ]
        }
      ],
      "source": [
        "# Example 4: Batch processing\n",
        "batch_size = 32\n",
        "sequence_length = 50\n",
        "num_features = 5\n",
        "batch_data = torch.randn(batch_size, sequence_length, num_features)\n",
        "print(f\"\\nBatch data shape: {batch_data.shape}\")\n"
      ]
    },
    {
      "cell_type": "code",
      "execution_count": null,
      "metadata": {},
      "outputs": [
        {
          "name": "stdout",
          "output_type": "stream",
          "text": [
            "\n",
            "Attention weights shape: torch.Size([10, 10])\n"
          ]
        }
      ],
      "source": [
        "# Example 5: Attention mechanism with temperature scaling\n",
        "query = torch.randn(10, 64)\n",
        "key = torch.randn(10, 64)\n",
        "attention_weights = torch.softmax(\n",
        "    torch.matmul(query, key.transpose(-2, -1)) / 8,  # Temperature scaling\n",
        "    dim=-1,\n",
        ")\n",
        "print(f\"\\nAttention weights shape: {attention_weights.shape}\")"
      ]
    },
    {
      "cell_type": "code",
      "execution_count": null,
      "metadata": {},
      "outputs": [
        {
          "name": "stdout",
          "output_type": "stream",
          "text": [
            "\n",
            "Matrix multiplication result shape: torch.Size([100, 300])\n"
          ]
        }
      ],
      "source": [
        "# Example 6: Efficient matrix operations\n",
        "A = torch.randn(100, 200)\n",
        "B = torch.randn(200, 300)\n",
        "result = torch.mm(A, B)  # More efficient than torch.matmul for 2D\n",
        "print(f\"\\nMatrix multiplication result shape: {result.shape}\")"
      ]
    },
    {
      "cell_type": "markdown",
      "metadata": {},
      "source": [
        "# einops"
      ]
    },
    {
      "cell_type": "markdown",
      "metadata": {},
      "source": [
        "Extremely useful library for reshaping, reducing, tiling. Following reference code taken from the einops tutorial."
      ]
    },
    {
      "cell_type": "code",
      "execution_count": null,
      "metadata": {},
      "outputs": [],
      "source": [
        "import torch\n",
        "import numpy as np\n",
        "\n",
        "from einops import rearrange, reduce, repeat"
      ]
    },
    {
      "cell_type": "code",
      "execution_count": null,
      "metadata": {},
      "outputs": [],
      "source": [
        "# Examples are given for np. This code also setups ipython/jupyter\n",
        "# so that numpy arrays in the output are displayed as images\n",
        "from PIL.Image import fromarray\n",
        "from IPython import get_ipython\n",
        "from IPython.display import display_html\n",
        "\n",
        "\n",
        "def display_np_arrays_as_images():\n",
        "    def np_to_png(a):\n",
        "        if 2 <= len(a.shape) <= 3:\n",
        "            return fromarray(\n",
        "                np.array(np.clip(a, 0, 1) * 255, dtype=\"uint8\")\n",
        "            )._repr_png_()\n",
        "        else:\n",
        "            return fromarray(np.zeros([1, 1], dtype=\"uint8\"))._repr_png_()\n",
        "\n",
        "    def np_to_text(obj, p, cycle):\n",
        "        if len(obj.shape) < 2:\n",
        "            print(repr(obj))\n",
        "        if 2 <= len(obj.shape) <= 3:\n",
        "            pass\n",
        "        else:\n",
        "            print(f\"<array of shape {obj.shape}>\")\n",
        "\n",
        "    get_ipython().display_formatter.formatters[\"image/png\"].for_type(\n",
        "        np.ndarray, np_to_png\n",
        "    )\n",
        "    get_ipython().display_formatter.formatters[\"text/plain\"].for_type(\n",
        "        np.ndarray, np_to_text\n",
        "    )\n",
        "\n",
        "\n",
        "display_np_arrays_as_images()"
      ]
    },
    {
      "cell_type": "code",
      "execution_count": null,
      "metadata": {},
      "outputs": [
        {
          "name": "stdout",
          "output_type": "stream",
          "text": [
            "(6, 96, 96, 3) float64\n"
          ]
        }
      ],
      "source": [
        "ims = np.load(\"./test_images.npy\", allow_pickle=False)\n",
        "# There are 6 images of shape 96x96 with 3 color channels packed into tensor\n",
        "print(ims.shape, ims.dtype)"
      ]
    },
    {
      "cell_type": "code",
      "execution_count": null,
      "metadata": {},
      "outputs": [
        {
          "data": {
            "image/png": "[encoded data removed]",
            "text/plain": []
          },
          "execution_count": 21,
          "metadata": {},
          "output_type": "execute_result"
        }
      ],
      "source": [
        "# 6 images, each can be displayed\n",
        "# => only 3D tensors can be displayed\n",
        "ims[0]"
      ]
    },
    {
      "cell_type": "code",
      "execution_count": null,
      "metadata": {},
      "outputs": [
        {
          "data": {
            "image/png": "[encoded data removed]",
            "text/plain": []
          },
          "execution_count": 22,
          "metadata": {},
          "output_type": "execute_result"
        }
      ],
      "source": [
        "# rearrange, as the name suggests, rearranges elements\n",
        "# below we swapped height and width.\n",
        "# In other words, transposed first two axes (dimensions)\n",
        "rearrange(ims[0], \"h w c -> w h c\")"
      ]
    },
    {
      "cell_type": "markdown",
      "metadata": {},
      "source": [
        "## Composition of axes"
      ]
    },
    {
      "cell_type": "code",
      "execution_count": null,
      "metadata": {},
      "outputs": [
        {
          "data": {
            "image/png": "[encoded data removed]",
            "text/plain": []
          },
          "metadata": {},
          "output_type": "display_data"
        }
      ],
      "source": [
        "# einops allows seamlessly composing batch and height to a new height dimension\n",
        "# We just rendered all images by collapsing to 3d tensor!\n",
        "rearrange(ims, \"b h w c -> (b h) w c\")"
      ]
    },
    {
      "cell_type": "code",
      "execution_count": null,
      "metadata": {},
      "outputs": [
        {
          "name": "stdout",
          "output_type": "stream",
          "text": [
            "tensor([[ 0.1218, -0.6989],\n",
            "        [-0.6698, -0.2974],\n",
            "        [-0.1376, -1.1516]])\n",
            "tensor([ 0.1218, -0.6989, -0.6698, -0.2974, -0.1376, -1.1516])\n",
            "tensor([ 0.1218, -0.6989, -0.6698, -0.2974, -0.1376, -1.1516])\n",
            "tensor([ 0.1218, -0.6698, -0.1376, -0.6989, -0.2974, -1.1516])\n"
          ]
        }
      ],
      "source": [
        "x = torch.randn(3, 2)\n",
        "print(x)\n",
        "print(x.flatten())\n",
        "# Order matters. Numerical example (visual below)\n",
        "print(rearrange(x, \"h w -> (h w)\"))\n",
        "print(rearrange(x, \"h w -> (w h)\"))"
      ]
    },
    {
      "cell_type": "code",
      "execution_count": null,
      "metadata": {},
      "outputs": [
        {
          "data": {
            "image/png": "[encoded data removed]",
            "text/plain": []
          },
          "metadata": {},
          "output_type": "display_data"
        }
      ],
      "source": [
        "rearrange(ims, \"b h w c -> (h b) w c\")"
      ]
    },
    {
      "cell_type": "code",
      "execution_count": null,
      "metadata": {},
      "outputs": [
        {
          "data": {
            "image/png": "[encoded data removed]",
            "text/plain": []
          },
          "metadata": {},
          "output_type": "display_data"
        }
      ],
      "source": [
        "# or compose a new dimension of batch and width\n",
        "rearrange(ims, \"b h w c -> h (b w) c\")"
      ]
    },
    {
      "cell_type": "code",
      "execution_count": null,
      "metadata": {},
      "outputs": [
        {
          "data": {
            "text/plain": [
              "(96, 576, 3)"
            ]
          },
          "metadata": {},
          "output_type": "display_data"
        }
      ],
      "source": [
        "# resulting dimensions are computed very simply\n",
        "# length of newly composed axis is a product of components\n",
        "# [6, 96, 96, 3] -> [96, (6 * 96), 3]\n",
        "rearrange(ims, \"b h w c -> h (b w) c\").shape"
      ]
    },
    {
      "cell_type": "code",
      "execution_count": null,
      "metadata": {},
      "outputs": [
        {
          "data": {
            "text/plain": [
              "(165888,)"
            ]
          },
          "metadata": {},
          "output_type": "display_data"
        }
      ],
      "source": [
        "# we can compose more than two axes.\n",
        "# let's flatten 4d array into 1d, resulting array has as many elements as the original\n",
        "rearrange(ims, \"b h w c -> (b h w c)\").shape"
      ]
    },
    {
      "cell_type": "markdown",
      "metadata": {},
      "source": [
        "## Decomposition of axis"
      ]
    },
    {
      "cell_type": "code",
      "execution_count": null,
      "metadata": {},
      "outputs": [
        {
          "data": {
            "text/plain": [
              "(2, 3, 96, 96, 3)"
            ]
          },
          "metadata": {},
          "output_type": "display_data"
        }
      ],
      "source": [
        "# decomposition is the inverse process - represent an axis as a combination of new axes\n",
        "# several decompositions possible, so b1=2 is to decompose 6 to b1=2 and b2=3\n",
        "rearrange(ims, \"(b1 b2) h w c -> b1 b2 h w c \", b1=2).shape"
      ]
    },
    {
      "cell_type": "code",
      "execution_count": null,
      "metadata": {},
      "outputs": [
        {
          "data": {
            "image/png": "[encoded data removed]",
            "text/plain": []
          },
          "metadata": {},
          "output_type": "display_data"
        }
      ],
      "source": [
        "# finally, combine composition and decomposition:\n",
        "rearrange(ims, \"(b1 b2) h w c -> (b1 h) (b2 w) c \", b1=2)"
      ]
    },
    {
      "cell_type": "code",
      "execution_count": null,
      "metadata": {},
      "outputs": [
        {
          "data": {
            "image/png": "[encoded data removed]",
            "text/plain": []
          },
          "metadata": {},
          "output_type": "display_data"
        }
      ],
      "source": [
        "# slightly different composition: b1 is merged with width, b2 with height\n",
        "# ... so letters are ordered by w then by h\n",
        "rearrange(ims, \"(b1 b2) h w c -> (b2 h) (b1 w) c \", b1=2)"
      ]
    },
    {
      "cell_type": "code",
      "execution_count": null,
      "metadata": {},
      "outputs": [
        {
          "data": {
            "image/png": "[encoded data removed]",
            "text/plain": []
          },
          "metadata": {},
          "output_type": "display_data"
        }
      ],
      "source": [
        "# move part of width dimension to height.\n",
        "# we should call this width-to-height as image width shrunk by 2 and height doubled.\n",
        "# but all pixels are the same!\n",
        "# Can you write reverse operation (height-to-width)?\n",
        "rearrange(ims, \"b h (w w2) c -> (h w2) (b w) c\", w2=2)"
      ]
    },
    {
      "cell_type": "code",
      "execution_count": null,
      "metadata": {},
      "outputs": [
        {
          "data": {
            "image/png": "[encoded data removed]",
            "text/plain": []
          },
          "metadata": {},
          "output_type": "display_data"
        }
      ],
      "source": [
        "rearrange(ims, \"b (h h2) w c -> h (b w h2) c\", h2=2)"
      ]
    },
    {
      "cell_type": "markdown",
      "metadata": {},
      "source": [
        "## Order of axes matters"
      ]
    },
    {
      "cell_type": "code",
      "execution_count": null,
      "metadata": {},
      "outputs": [
        {
          "name": "stdout",
          "output_type": "stream",
          "text": [
            "tensor([[-3.8063, -0.1150],\n",
            "        [-0.4665, -0.2939],\n",
            "        [ 0.7777, -1.3395],\n",
            "        [ 0.8639,  1.1261]])\n",
            "tensor([[-3.8063, -0.4665, -0.1150, -0.2939],\n",
            "        [ 0.7777,  0.8639, -1.3395,  1.1261]])\n",
            "tensor([[-3.8063, -0.1150, -0.4665, -0.2939],\n",
            "        [ 0.7777, -1.3395,  0.8639,  1.1261]])\n"
          ]
        }
      ],
      "source": [
        "x = torch.randn(4, 2)\n",
        "print(x)\n",
        "# Numerical example (visual below)\n",
        "print(rearrange(x, \"(h h2) w -> h (w h2)\", h2=2))\n",
        "print(rearrange(x, \"(h h2) w -> h (h2 w)\", h2=2))"
      ]
    },
    {
      "cell_type": "code",
      "execution_count": null,
      "metadata": {},
      "outputs": [
        {
          "data": {
            "image/png": "[encoded data removed]",
            "text/plain": []
          },
          "metadata": {},
          "output_type": "display_data"
        }
      ],
      "source": [
        "# compare with the next example\n",
        "rearrange(ims, \"b h w c -> h (b w) c\")"
      ]
    },
    {
      "cell_type": "code",
      "execution_count": null,
      "metadata": {},
      "outputs": [
        {
          "data": {
            "image/png": "[encoded data removed]",
            "text/plain": []
          },
          "metadata": {},
          "output_type": "display_data"
        }
      ],
      "source": [
        "# order of axes in composition is different\n",
        "# rule is just as for digits in the number: leftmost digit is the most significant,\n",
        "# while neighboring numbers differ in the rightmost axis.\n",
        "\n",
        "# you can also think of this as lexicographic sort\n",
        "rearrange(ims, \"b h w c -> h (w b) c\")"
      ]
    },
    {
      "cell_type": "code",
      "execution_count": null,
      "metadata": {},
      "outputs": [
        {
          "data": {
            "image/png": "[encoded data removed]",
            "text/plain": []
          },
          "metadata": {},
          "output_type": "display_data"
        }
      ],
      "source": [
        "# what if b1 and b2 are reordered before composing to width?\n",
        "rearrange(ims, \"(b1 b2) h w c -> h (b1 b2 w) c \", b1=2)  # produces 'einops'\n",
        "rearrange(ims, \"(b1 b2) h w c -> h (b2 b1 w) c \", b1=2)  # produces 'eoipns'"
      ]
    },
    {
      "cell_type": "markdown",
      "metadata": {},
      "source": [
        "## Meet einops.reduce\n",
        "\n",
        "In einops-land you don't need to guess what happened\n",
        "```python\n",
        "x.mean(-1)\n",
        "```\n",
        "Because you write what the operation does\n",
        "```python\n",
        "reduce(x, 'b h w c -> b h w', 'mean')\n",
        "```\n",
        "\n",
        "if axis is not present in the output — you guessed it — axis was reduced."
      ]
    },
    {
      "cell_type": "code",
      "execution_count": null,
      "metadata": {},
      "outputs": [
        {
          "data": {
            "image/png": "[encoded data removed]",
            "text/plain": []
          },
          "metadata": {},
          "output_type": "display_data"
        }
      ],
      "source": [
        "# average over batch\n",
        "reduce(ims, \"b h w c -> h w c\", \"mean\")"
      ]
    },
    {
      "cell_type": "code",
      "execution_count": null,
      "metadata": {},
      "outputs": [
        {
          "data": {
            "image/png": "[encoded data removed]",
            "text/plain": []
          },
          "metadata": {},
          "output_type": "display_data"
        }
      ],
      "source": [
        "# the previous is identical to familiar:\n",
        "ims.mean(axis=0)\n",
        "# but is so much more readable"
      ]
    },
    {
      "cell_type": "code",
      "execution_count": null,
      "metadata": {},
      "outputs": [
        {
          "data": {
            "image/png": "[encoded data removed]",
            "text/plain": []
          },
          "metadata": {},
          "output_type": "display_data"
        }
      ],
      "source": [
        "# Example of reducing of several axes\n",
        "# besides mean, there are also min, max, sum, prod\n",
        "reduce(ims, \"b h w c -> h w\", \"min\")"
      ]
    },
    {
      "cell_type": "code",
      "execution_count": null,
      "metadata": {},
      "outputs": [
        {
          "data": {
            "image/png": "[encoded data removed]",
            "text/plain": []
          },
          "metadata": {},
          "output_type": "display_data"
        }
      ],
      "source": [
        "# this is mean-pooling with 2x2 kernel\n",
        "# image is split into 2x2 patches, each patch is averaged\n",
        "reduce(ims, \"b (h h2) (w w2) c -> h (b w) c\", \"mean\", h2=2, w2=2)"
      ]
    },
    {
      "cell_type": "code",
      "execution_count": null,
      "metadata": {},
      "outputs": [
        {
          "data": {
            "image/png": "[encoded data removed]",
            "text/plain": []
          },
          "metadata": {},
          "output_type": "display_data"
        }
      ],
      "source": [
        "# order is still important\n",
        "# make sure the dim you reduce is the rightmost in the group\n",
        "# if you want nearby pixels to be pooled together\n",
        "reduce(ims, \"b (h2 h) (w2 w) c -> h (b w) c\", \"mean\", h2=2, w2=2)\n",
        "# explanation: the pooling is done between 4 disconnected pixels that are h/2 apart and w/2 apart"
      ]
    },
    {
      "cell_type": "code",
      "execution_count": null,
      "metadata": {},
      "outputs": [
        {
          "data": {
            "image/png": "[encoded data removed]",
            "text/plain": []
          },
          "metadata": {},
          "output_type": "display_data"
        }
      ],
      "source": [
        "# max-pooling is similar\n",
        "# result is not as smooth as for mean-pooling\n",
        "reduce(ims, \"b (h h2) (w w2) c -> h (b w) c\", \"max\", h2=2, w2=2)"
      ]
    },
    {
      "cell_type": "code",
      "execution_count": null,
      "metadata": {},
      "outputs": [
        {
          "data": {
            "image/png": "[encoded data removed]",
            "text/plain": []
          },
          "metadata": {},
          "output_type": "display_data"
        }
      ],
      "source": [
        "# yet another example. Can you compute result shape?\n",
        "reduce(ims, \"(b1 b2) h w c -> (b2 h) (b1 w)\", \"mean\", b1=2)"
      ]
    },
    {
      "cell_type": "markdown",
      "metadata": {},
      "source": [
        "## Stack and concatenate"
      ]
    },
    {
      "cell_type": "code",
      "execution_count": null,
      "metadata": {},
      "outputs": [
        {
          "name": "stdout",
          "output_type": "stream",
          "text": [
            "<class 'list'> with 6 tensors of shape (96, 96, 3)\n"
          ]
        },
        {
          "data": {
            "text/plain": [
              "(6, 96, 96, 3)"
            ]
          },
          "metadata": {},
          "output_type": "display_data"
        }
      ],
      "source": [
        "# rearrange can also take care of lists of arrays with the same shape\n",
        "x = list(ims)\n",
        "print(type(x), \"with\", len(x), \"tensors of shape\", x[0].shape)\n",
        "# that's how we can stack inputs\n",
        "# \"list axis\" becomes first (\"b\" in this case), and we left it there\n",
        "rearrange(x, \"b h w c -> b h w c\").shape"
      ]
    },
    {
      "cell_type": "code",
      "execution_count": null,
      "metadata": {},
      "outputs": [
        {
          "data": {
            "text/plain": [
              "(96, 96, 3, 6)"
            ]
          },
          "metadata": {},
          "output_type": "display_data"
        }
      ],
      "source": [
        "# but new axis can appear in the other place:\n",
        "rearrange(x, \"b h w c -> h w c b\").shape"
      ]
    },
    {
      "cell_type": "code",
      "execution_count": null,
      "metadata": {},
      "outputs": [
        {
          "data": {
            "text/plain": [
              "True"
            ]
          },
          "metadata": {},
          "output_type": "display_data"
        }
      ],
      "source": [
        "# that's equivalent to np stacking, but written more explicitly\n",
        "np.array_equal(rearrange(x, \"b h w c -> h w c b\"), np.stack(x, axis=3))"
      ]
    },
    {
      "cell_type": "code",
      "execution_count": null,
      "metadata": {},
      "outputs": [
        {
          "data": {
            "text/plain": [
              "(96, 576, 3)"
            ]
          },
          "metadata": {},
          "output_type": "display_data"
        }
      ],
      "source": [
        "# ... or we can concatenate along axes\n",
        "rearrange(x, \"b h w c -> h (b w) c\").shape"
      ]
    },
    {
      "cell_type": "code",
      "execution_count": null,
      "metadata": {},
      "outputs": [
        {
          "data": {
            "image/png": "[encoded data removed]",
            "text/plain": []
          },
          "metadata": {},
          "output_type": "display_data"
        }
      ],
      "source": [
        "rearrange(x, \"b h w c -> h (b w) c\")"
      ]
    },
    {
      "cell_type": "code",
      "execution_count": null,
      "metadata": {},
      "outputs": [
        {
          "data": {
            "text/plain": [
              "True"
            ]
          },
          "metadata": {},
          "output_type": "display_data"
        }
      ],
      "source": [
        "# which is equivalent to concatenation\n",
        "np.array_equal(rearrange(x, \"b h w c -> h (b w) c\"), np.concatenate(x, axis=1))"
      ]
    },
    {
      "cell_type": "markdown",
      "metadata": {},
      "source": [
        "## Addition or removal of axes\n",
        "\n",
        "You can write 1 to create a new axis of length 1. Similarly you can remove such axis.\n",
        "\n",
        "There is also a synonym `()` that you can use. That's a composition of zero axes and it also has a unit length."
      ]
    },
    {
      "cell_type": "code",
      "execution_count": null,
      "metadata": {},
      "outputs": [
        {
          "name": "stdout",
          "output_type": "stream",
          "text": [
            "(6, 1, 96, 96, 1, 3)\n",
            "(6, 96, 96, 3)\n"
          ]
        }
      ],
      "source": [
        "x = rearrange(ims, \"b h w c -> b 1 h w 1 c\")  # functionality of np.expand_dims\n",
        "print(x.shape)\n",
        "print(rearrange(x, \"b 1 h w 1 c -> b h w c\").shape)  # functionality of np.squeeze"
      ]
    },
    {
      "cell_type": "code",
      "execution_count": null,
      "metadata": {},
      "outputs": [
        {
          "data": {
            "image/png": "[encoded data removed]",
            "text/plain": []
          },
          "metadata": {},
          "output_type": "display_data"
        }
      ],
      "source": [
        "# compute max in each image individually, then show a difference\n",
        "x = reduce(ims, \"b h w c -> b () () c\", \"max\") - ims\n",
        "rearrange(x, \"b h w c -> h (b w) c\")"
      ]
    },
    {
      "cell_type": "code",
      "execution_count": null,
      "metadata": {},
      "outputs": [
        {
          "name": "stdout",
          "output_type": "stream",
          "text": [
            "(6, 1, 1, 3)\n",
            "(6, 1, 1, 3)\n",
            "(6, 3)\n"
          ]
        }
      ],
      "source": [
        "print(reduce(ims, \"b h w c -> b () () c\", \"mean\").shape)\n",
        "print(reduce(ims, \"b h w c -> b 1 1 c\", \"mean\").shape)\n",
        "print(reduce(ims, \"b h w c -> b c\", \"mean\").shape)"
      ]
    },
    {
      "cell_type": "markdown",
      "metadata": {},
      "source": [
        "## Repeating elements\n",
        "\n",
        "Third operation we introduce is `repeat`"
      ]
    },
    {
      "cell_type": "code",
      "execution_count": null,
      "metadata": {},
      "outputs": [
        {
          "data": {
            "text/plain": [
              "(96, 5, 96, 3)"
            ]
          },
          "metadata": {},
          "output_type": "display_data"
        }
      ],
      "source": [
        "# repeat along a new axis. New axis can be placed anywhere\n",
        "repeat(ims[0], \"h w c -> h new_axis w c\", new_axis=5).shape"
      ]
    },
    {
      "cell_type": "code",
      "execution_count": null,
      "metadata": {},
      "outputs": [
        {
          "data": {
            "text/plain": [
              "(96, 5, 96, 3)"
            ]
          },
          "metadata": {},
          "output_type": "display_data"
        }
      ],
      "source": [
        "# shortcut\n",
        "repeat(ims[0], \"h w c -> h 5 w c\").shape"
      ]
    },
    {
      "cell_type": "code",
      "execution_count": null,
      "metadata": {},
      "outputs": [
        {
          "data": {
            "image/png": "[encoded data removed]",
            "text/plain": []
          },
          "metadata": {},
          "output_type": "display_data"
        }
      ],
      "source": [
        "# repeat along w (existing axis)\n",
        "repeat(ims[0], \"h w c -> h (repeat w) c\", repeat=3)"
      ]
    },
    {
      "cell_type": "code",
      "execution_count": null,
      "metadata": {},
      "outputs": [
        {
          "data": {
            "image/png": "[encoded data removed]",
            "text/plain": []
          },
          "metadata": {},
          "output_type": "display_data"
        }
      ],
      "source": [
        "# repeat along two existing axes\n",
        "repeat(ims[0], \"h w c -> (2 h) (2 w) c\")"
      ]
    },
    {
      "cell_type": "code",
      "execution_count": null,
      "metadata": {},
      "outputs": [
        {
          "data": {
            "image/png": "[encoded data removed]",
            "text/plain": []
          },
          "metadata": {},
          "output_type": "display_data"
        }
      ],
      "source": [
        "# order of axes matters as usual - you can repeat each element (pixel) 3 times\n",
        "# by changing order in parenthesis\n",
        "repeat(ims[0], \"h w c -> h (w repeat) c\", repeat=3)"
      ]
    },
    {
      "cell_type": "markdown",
      "metadata": {},
      "source": [
        "Note: `repeat` operation covers functionality identical to `np.repeat`, `np.tile` and actually more than that."
      ]
    },
    {
      "cell_type": "code",
      "execution_count": null,
      "metadata": {},
      "outputs": [
        {
          "data": {
            "text/plain": [
              "tensor([1, 1, 2, 2, 3, 3])"
            ]
          },
          "metadata": {},
          "output_type": "display_data"
        }
      ],
      "source": [
        "repeat(torch.tensor([1, 2, 3]), \"n -> (n repeat)\", repeat=2)"
      ]
    },
    {
      "cell_type": "code",
      "execution_count": null,
      "metadata": {},
      "outputs": [
        {
          "name": "stdout",
          "output_type": "stream",
          "text": [
            "tensor([-0.4055,  1.3975, -0.6590])\n",
            "tensor([[-0.4055,  1.3975, -0.6590],\n",
            "        [-0.4055,  1.3975, -0.6590],\n",
            "        [-0.4055,  1.3975, -0.6590],\n",
            "        [-0.4055,  1.3975, -0.6590]])\n",
            "tensor([ 9.9900e+02,  1.3975e+00, -6.5897e-01])\n",
            "tensor([[ 9.9900e+02,  1.3975e+00, -6.5897e-01],\n",
            "        [ 9.9900e+02,  1.3975e+00, -6.5897e-01],\n",
            "        [ 9.9900e+02,  1.3975e+00, -6.5897e-01],\n",
            "        [ 9.9900e+02,  1.3975e+00, -6.5897e-01]])\n"
          ]
        }
      ],
      "source": [
        "# Newer versions of einops are more efficient and share memory with the original tensor\n",
        "x = torch.randn(3)\n",
        "print(x)\n",
        "\n",
        "y = repeat(x, \"c -> 4 c\")\n",
        "print(y)\n",
        "\n",
        "x[0] = 999\n",
        "print(x)\n",
        "print(y)"
      ]
    },
    {
      "cell_type": "markdown",
      "metadata": {},
      "source": [
        "## Reduce ⇆ repeat\n",
        "\n",
        "reduce and repeat are like opposite of each other: first one reduces amount of elements, second one increases.\n",
        "\n",
        "In the following example each image is repeated first, then we reduce over new axis to get back original tensor. Notice that operation patterns are \"reverse\" of each other"
      ]
    },
    {
      "cell_type": "markdown",
      "metadata": {},
      "source": [
        "# Ellipses to ignore unused dimensions"
      ]
    },
    {
      "cell_type": "code",
      "execution_count": null,
      "metadata": {},
      "outputs": [],
      "source": [
        "repeated = repeat(ims, \"b h w c -> b h new_axis w c\", new_axis=2)\n",
        "reduced = reduce(repeated, \"b h new_axis w c -> b h w c\", \"min\")\n",
        "assert np.array_equal(ims, reduced)"
      ]
    },
    {
      "cell_type": "code",
      "execution_count": null,
      "metadata": {},
      "outputs": [
        {
          "data": {
            "text/plain": [
              "torch.Size([3, 100, 150, 120])"
            ]
          },
          "metadata": {},
          "output_type": "display_data"
        }
      ],
      "source": [
        "x = torch.randn(3, 100, 120, 150)\n",
        "rearrange(x, \"... w c -> ... c w\").shape"
      ]
    },
    {
      "cell_type": "markdown",
      "metadata": {},
      "source": [
        "Also check out https://github.com/arogozhnikov/einops/blob/main/docs/2-einops-for-deep-learning.ipynb and https://einops.rocks/pytorch-examples.html"
      ]
    },
    {
      "cell_type": "markdown",
      "metadata": {},
      "source": []
    }
  ],
  "metadata": {
    "kernelspec": {
      "display_name": "torch",
      "language": "python",
      "name": "python3"
    },
    "language_info": {
      "codemirror_mode": {
        "name": "ipython",
        "version": 3
      },
      "file_extension": ".py",
      "mimetype": "text/x-python",
      "name": "python",
      "nbconvert_exporter": "python",
      "pygments_lexer": "ipython3",
      "version": "3.11.13"
    }
  },
  "nbformat": 4,
  "nbformat_minor": 2
}
